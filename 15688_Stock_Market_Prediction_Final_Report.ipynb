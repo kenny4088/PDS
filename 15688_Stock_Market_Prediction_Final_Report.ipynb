{
 "cells": [
  {
   "cell_type": "markdown",
   "metadata": {
    "colab_type": "text",
    "id": "tkzMfrbUcFY5"
   },
   "source": [
    "# Practical Data Science - Project Final Report\n",
    "### Topic: Stock Market Data Exploration and Prediction\n",
    "__Authors__: Yanxing Feng, Richie Varghese, Zhining Zhou"
   ]
  },
  {
   "cell_type": "markdown",
   "metadata": {
    "colab_type": "text",
    "id": "8-qgudTeoeyQ"
   },
   "source": [
    "## Motivation\n",
    "\n",
    "Predicting stock prices and trends to some degree of accuracy is highly valuable. There are multiple potential approaches available to address problems of this type. We want to explore and compare them in this project."
   ]
  },
  {
   "cell_type": "markdown",
   "metadata": {
    "colab_type": "text",
    "id": "Z5PH-80Momuf"
   },
   "source": [
    "## Primary Objectives\n",
    "\n",
    "* Discover underlying trends within different industries and across these industries by exploring historical data.\n",
    "* Use 6 different models to see which one performs better in predicting trends and prices.\n"
   ]
  },
  {
   "cell_type": "code",
   "execution_count": 0,
   "metadata": {
    "colab": {},
    "colab_type": "code",
    "id": "sZlMJAjkHfpL"
   },
   "outputs": [],
   "source": [
    "import requests\n",
    "import csv\n",
    "import pandas as pd\n",
    "import time\n",
    "import os\n",
    "import matplotlib.pyplot as plt\n",
    "import matplotlib.ticker as ticker\n",
    "import warnings\n",
    "from datetime import timedelta,date\n",
    "import time\n",
    "import seaborn as sns\n",
    "import collections\n",
    "warnings.filterwarnings('ignore')\n",
    "from os import walk\n",
    "import glob\n",
    "import numpy as np"
   ]
  },
  {
   "attachments": {},
   "cell_type": "markdown",
   "metadata": {
    "colab_type": "text",
    "id": "47lsMN37cFY-"
   },
   "source": [
    "\n",
    "\n",
    "## Data Pipeline Overview\n",
    "\n",
    "We performed the following steps to explore stock market dataset and benchmark different predictive models <br>\n",
    "\n",
    "1. Data Requesting from API\n",
    "2. Data Preprocessing & Aggregation\n",
    "3. Exploratary Data Analysis\n",
    "4. Predictive Model Pipeline Building\n",
    "5. Model Performance Benchmarking for Top Stocks of each \n",
    "<img src=\"Images/pipe.png\">"
   ]
  },
  {
   "cell_type": "markdown",
   "metadata": {
    "colab_type": "text",
    "id": "DNaUE603cFY_"
   },
   "source": [
    "## Data Acquisition\n",
    "\n",
    "We acquired stock data from an API called [Alpha Vantage](https://www.alphavantage.co/#page-top), which is a leading provider of free APIs for realtime and historical data on stocks, forex (FX), and digital/crypto currencies. Our success is driven by rigorous research, cutting edge technology, and a disciplined focus on democratizing access to data.\n",
    "\n",
    "We choose this API for the following reasons:\n",
    "<br>\n",
    " * It covers all public companies' stock price data.\n",
    " * The time range coverage for each stock is wide (Almost all data for each stock).\n",
    " * It supports `.csv` as the response format.\n",
    " * Most importantly, it's free ! :)\n",
    " \n",
    "The following function __`download_stock`__ will request all the stock price data from [Alpha Vantage API](https://www.alphavantage.co/#page-top). Due to traffic limit of the API, we set the interval between requests as __15__ seconds\n"
   ]
  },
  {
   "cell_type": "code",
   "execution_count": 0,
   "metadata": {
    "colab": {},
    "colab_type": "code",
    "id": "ptJwg-D6HqMI"
   },
   "outputs": [],
   "source": [
    "def download_stock(stock_code,API_key):\n",
    "    if os.path.exists('data/{}.csv'.format(stock_code)):\n",
    "        return\n",
    "    url = \"https://www.alphavantage.co/query\\?function=TIME_SERIES_DAILY&symbol={0}&outputsize=full&apikey={1}&datatype=csv\".format(stock_code,API_key)\n",
    "    try:\n",
    "        r = requests.get(url, allow_redirects=True)\n",
    "        open('data/{}.csv'.format(stock_code), 'wb').write(r.content)\n",
    "        time.sleep(15)\n",
    "    except:\n",
    "        print(stock_code)"
   ]
  },
  {
   "cell_type": "markdown",
   "metadata": {
    "colab_type": "text",
    "id": "lMAxJAaXcFZC"
   },
   "source": [
    "Requesting data for companies in ___S&P 500___ listing. All csv files will be stored in the `Data/` Folder"
   ]
  },
  {
   "cell_type": "code",
   "execution_count": 0,
   "metadata": {
    "colab": {},
    "colab_type": "code",
    "id": "jxYSvKkKHt4c"
   },
   "outputs": [],
   "source": [
    "# We applied for two API keys:\n",
    "# 'TTKT2K6JDYK8U0G1' \n",
    "# 'ZL2U2GSDBJ8K57I6'\n",
    "API_key ='TTKT2K6JDYK8U0G1'\n",
    "sp500 = pd.read_csv('SP500.csv')\n",
    "os.makedirs('data')\n",
    "for stock in sp500.Symbol:\n",
    "    download_stock(stock,API_key)"
   ]
  },
  {
   "cell_type": "markdown",
   "metadata": {
    "colab_type": "text",
    "id": "qRtnGMdYJRKw"
   },
   "source": [
    "## Data Preprocessing and Aggregating based on Industries\n",
    "\n",
    "We use two files - `S&P 500 Weights.csv` and `S&P 500 Industries.csv` to map which stock belongs to which industry and to map the associated weight in the S&P 500 index calculation. We use these indices to calculate the total weight of each industry in the S&P 500 index which is shown as output below.\n"
   ]
  },
  {
   "cell_type": "code",
   "execution_count": 0,
   "metadata": {
    "colab": {},
    "colab_type": "code",
    "id": "29_ski9tJKw6",
    "outputId": "86c52df3-21b0-4d01-e16f-17cc37806224"
   },
   "outputs": [
    {
     "name": "stdout",
     "output_type": "stream",
     "text": [
      "Industrials 9.422666999999997\n",
      "Health Care 13.841583\n",
      "Information Technology 22.614822000000004\n",
      "Consumer Discretionary 9.822768999999997\n",
      "Utilities 3.320673\n",
      "Financials 13.112253000000003\n",
      "Materials 2.719782\n",
      "Real Estate 2.9979500000000003\n",
      "Energy 4.348743\n"
     ]
    }
   ],
   "source": [
    "mypath=\"./Data\"\n",
    "outputdir=\"./Industries\"\n",
    "weights_file = \"./S&P 500 Weights.csv\"\n",
    "industries_file = \"./S&P 500 Industries.csv\"\n",
    "files = []\n",
    "\n",
    "weights_df = pd.read_csv(weights_file)\n",
    "weights_dict = pd.Series(weights_df.Weight.values, index=weights_df.Symbol).to_dict()\n",
    "\n",
    "industries_df = pd.read_csv(industries_file)\n",
    "industries_dict = pd.Series(industries_df['GICS Sector'].values, index=industries_df.Symbol).to_dict()\n",
    "\n",
    "reverse_industries_dict = {}\n",
    "\n",
    "for key, val in industries_dict.items():\n",
    "    if val in reverse_industries_dict:\n",
    "        reverse_industries_dict[val].append(key)\n",
    "    else:\n",
    "        reverse_industries_dict[val] = [key]\n",
    "\n",
    "# print(reverse_industries_dict)\n",
    "\n",
    "for key, val in reverse_industries_dict.items():\n",
    "    total = 0\n",
    "    for comp in val:\n",
    "        total += weights_dict[comp]\n",
    "    print(key, total)\n",
    "        \n",
    "        \n",
    "data_dict = {}\n",
    "\n",
    "if not os.path.exists(outputdir):\n",
    "    os.makedirs(outputdir)\n",
    "\n",
    "for (dirpath, dirnames, filenames) in walk(mypath):\n",
    "    for f in filenames:\n",
    "        try:\n",
    "            df = pd.read_csv(dirpath+'/'+f)\n",
    "            df['timestamp'] = pd.to_datetime(df['timestamp'])\n",
    "            df = df.set_index('timestamp')\n",
    "#             print(df.open)\n",
    "            data_dict[f[:-4]]=df\n",
    "        except:\n",
    "            print(\"Parsing Error in\",f[:-4])"
   ]
  },
  {
   "cell_type": "markdown",
   "metadata": {
    "colab_type": "text",
    "id": "4O8ViJOnmzx_"
   },
   "source": [
    "This function allows us to loop over every day from a given `start_date` to an `end_date`."
   ]
  },
  {
   "cell_type": "code",
   "execution_count": 0,
   "metadata": {
    "colab": {},
    "colab_type": "code",
    "id": "Un504UCFcFZH"
   },
   "outputs": [],
   "source": [
    "def daterange(start_date, end_date):\n",
    "    for n in range(int ((end_date - start_date).days)):\n",
    "        yield start_date + timedelta(n)"
   ]
  },
  {
   "cell_type": "markdown",
   "metadata": {
    "colab_type": "text",
    "id": "yD4gcuobm1NX"
   },
   "source": [
    "We then calculate a daily `price` and `volume` for each industry by computing a weighted average over the price and volume for every stock within that industry based on the weights associated for that stock as mentioned above. After running the subsequent cell, we will have `price` and `volume` values for each day and for each industry in industry specific dataframes. These dataframes will act as the basis of our exploratory data analysis in the next section."
   ]
  },
  {
   "cell_type": "code",
   "execution_count": 0,
   "metadata": {
    "colab": {},
    "colab_type": "code",
    "id": "pVaakVouJcmY",
    "outputId": "cf12eafd-8481-4049-bba7-d2ebd5cf96ed"
   },
   "outputs": [
    {
     "name": "stdout",
     "output_type": "stream",
     "text": [
      "Industrials\n",
      "Health Care\n",
      "Information Technology\n",
      "Consumer Discretionary\n",
      "Utilities\n",
      "Financials\n",
      "Materials\n",
      "Real Estate\n",
      "Energy\n"
     ]
    }
   ],
   "source": [
    "industry_data = {}\n",
    "for key, val in reverse_industries_dict.items():\n",
    "    ind_df = pd.DataFrame(columns=['timestamp','open','high','low','close','volume'])\n",
    "    start_date = date(1999, 11, 15)\n",
    "    end_date = date(2019, 11, 16)\n",
    "    i = 0\n",
    "    for single_date in daterange(start_date, end_date):\n",
    "        denom = 0\n",
    "        for comp in val:\n",
    "            if comp!='GL' and single_date in data_dict[comp].index:\n",
    "                denom += weights_dict[comp]\n",
    "        openval = 0\n",
    "        highval = 0\n",
    "        lowval = 0\n",
    "        closeval = 0\n",
    "        volume = 0\n",
    "        exists = False\n",
    "        for comp in val:\n",
    "            if comp!='GL' and single_date in data_dict[comp].index:\n",
    "                exists = True\n",
    "                df = data_dict[comp]\n",
    "                row = df.loc[single_date]\n",
    "                weight = weights_dict[comp]/denom\n",
    "                openval += row['open']*weight\n",
    "                highval += row['high']*weight\n",
    "                lowval += row['low']*weight\n",
    "                closeval += row['close']*weight\n",
    "                volume += row['volume']\n",
    "        if exists:\n",
    "            ind_df.loc[i] = [single_date.strftime(\"%m-%d-%Y\"), openval, highval, lowval, closeval, volume]\n",
    "            i += 1\n",
    "    print(key)\n",
    "    industry_data[key] = ind_df    "
   ]
  },
  {
   "cell_type": "markdown",
   "metadata": {
    "colab_type": "text",
    "id": "Zsl6Y3dQnEd-"
   },
   "source": [
    "We store these industry specific dataframes into individual `CSV` files."
   ]
  },
  {
   "cell_type": "code",
   "execution_count": 0,
   "metadata": {
    "colab": {},
    "colab_type": "code",
    "id": "AC_fELA0JmHC"
   },
   "outputs": [],
   "source": [
    "for key, val in industry_data.items():\n",
    "    val.to_csv(outputdir+\"/\"+key+\".csv\", index = False)"
   ]
  },
  {
   "cell_type": "markdown",
   "metadata": {
    "colab_type": "text",
    "id": "-Z47Z_WdnTdJ"
   },
   "source": [
    "We create a list of stocks that have data for all the days we are interested in i.e `15th Nov 2013` to `15th Nov 2019`. We use this list of stocks later in the prediction part."
   ]
  },
  {
   "cell_type": "code",
   "execution_count": 0,
   "metadata": {
    "colab": {},
    "colab_type": "code",
    "id": "us5Gy_hcRQIx"
   },
   "outputs": [],
   "source": [
    "model_inputs = []\n",
    "for key, val in data_dict.items():\n",
    "    if '2013-11-15' in val.index and '2019-11-15' in val.index:\n",
    "        model_inputs.append(key)"
   ]
  },
  {
   "cell_type": "markdown",
   "metadata": {
    "colab_type": "text",
    "id": "BsX8ubK6iu70"
   },
   "source": [
    "## Exploratory Data Analysis\n",
    "We performed data analysis based on company-level data and industry-level data. \n",
    "\n",
    "* For company-level data, we investigated the correlation between stock pairs, conducted time series trend analysis for individual stocks, as well as calculated stock returns.\n",
    "\n",
    "* For industry-level data, we specifically considered the correlation between different industries."
   ]
  },
  {
   "cell_type": "markdown",
   "metadata": {
    "colab_type": "text",
    "id": "k2V9TbUIjnxi"
   },
   "source": [
    "Read all stocks from csv"
   ]
  },
  {
   "cell_type": "code",
   "execution_count": 0,
   "metadata": {
    "colab": {},
    "colab_type": "code",
    "id": "v_fv469HPdQx"
   },
   "outputs": [],
   "source": [
    "def getData(filename):\n",
    "    df = pd.read_csv(filename[0])\n",
    "    stockname = filename[0].split(\"Data/\")[1].split('.csv')[0]\n",
    "    s = df[['timestamp', 'close']]\n",
    "    s = s.rename(columns={'close':stockname})\n",
    "    for i in range(1, len(filename)):\n",
    "        df = pd.read_csv(filename[i])\n",
    "        stockname = filename[i].split(\"Data/\")[1].split('.csv')[0]\n",
    "        data = df[['timestamp', 'close']]\n",
    "        data = data.rename(columns={'close':stockname})\n",
    "        s = pd.merge(s, data, on='timestamp', how='outer')\n",
    "    s.set_index('timestamp', inplace=True)\n",
    "    s = s.sort_index()\n",
    "    return s"
   ]
  },
  {
   "cell_type": "code",
   "execution_count": 0,
   "metadata": {
    "colab": {},
    "colab_type": "code",
    "id": "wivNt0w1Pv65"
   },
   "outputs": [],
   "source": [
    "filename = glob.glob(\"./Data/*.csv\")\n",
    "stocks = getData(filename)"
   ]
  },
  {
   "cell_type": "markdown",
   "metadata": {
    "colab_type": "text",
    "id": "rzPx8lCmj4BP"
   },
   "source": [
    "After reading all the data, we are interested to find if individual stocks correlate with each other. In our cases, we print top 50 correlation pairs with the correlation coefficient.\n",
    "\n",
    "We could see that for the top 50 correlation pairs, the absolute value of correlation coefficient is very large (greater than 0.98). This suggest that either stocks are in the same industry or they are in the opposite industry."
   ]
  },
  {
   "cell_type": "code",
   "execution_count": 0,
   "metadata": {
    "colab": {},
    "colab_type": "code",
    "id": "8AD60_oPP7TU"
   },
   "outputs": [],
   "source": [
    "def get_redundant_pairs(df):\n",
    "    '''Get diagonal and lower triangular pairs of correlation matrix'''\n",
    "    pairs = set()\n",
    "    cols = df.columns\n",
    "    for i in range(0, df.shape[1]):\n",
    "        for j in range(0, i+1):\n",
    "            pairs.add((cols[i], cols[j]))\n",
    "    return pairs\n",
    "\n",
    "def get_top_correlations(df, n=5):\n",
    "    corr = df.corr().abs().unstack()\n",
    "    to_drop = get_redundant_pairs(df)\n",
    "    corr = corr.drop(labels=to_drop).sort_values(ascending=False)\n",
    "    return corr[0:n]"
   ]
  },
  {
   "cell_type": "code",
   "execution_count": 0,
   "metadata": {
    "colab": {},
    "colab_type": "code",
    "id": "1JDbA9MRQBXz",
    "outputId": "2d1ed709-7542-4c3d-ee12-235aa3d75fc4"
   },
   "outputs": [
    {
     "data": {
      "text/html": [
       "<div>\n",
       "<style scoped>\n",
       "    .dataframe tbody tr th:only-of-type {\n",
       "        vertical-align: middle;\n",
       "    }\n",
       "\n",
       "    .dataframe tbody tr th {\n",
       "        vertical-align: top;\n",
       "    }\n",
       "\n",
       "    .dataframe thead th {\n",
       "        text-align: right;\n",
       "    }\n",
       "</style>\n",
       "<table border=\"1\" class=\"dataframe\">\n",
       "  <thead>\n",
       "    <tr style=\"text-align: right;\">\n",
       "      <th></th>\n",
       "      <th>col1</th>\n",
       "      <th>col2</th>\n",
       "      <th>corr</th>\n",
       "    </tr>\n",
       "  </thead>\n",
       "  <tbody>\n",
       "    <tr>\n",
       "      <th>0</th>\n",
       "      <td>FRT</td>\n",
       "      <td>SPG</td>\n",
       "      <td>0.985151</td>\n",
       "    </tr>\n",
       "    <tr>\n",
       "      <th>1</th>\n",
       "      <td>NEE</td>\n",
       "      <td>AWK</td>\n",
       "      <td>0.985263</td>\n",
       "    </tr>\n",
       "    <tr>\n",
       "      <th>2</th>\n",
       "      <td>CINF</td>\n",
       "      <td>AWK</td>\n",
       "      <td>0.985272</td>\n",
       "    </tr>\n",
       "    <tr>\n",
       "      <th>3</th>\n",
       "      <td>AON</td>\n",
       "      <td>MTD</td>\n",
       "      <td>0.985286</td>\n",
       "    </tr>\n",
       "    <tr>\n",
       "      <th>4</th>\n",
       "      <td>PYPL</td>\n",
       "      <td>PGR</td>\n",
       "      <td>0.985315</td>\n",
       "    </tr>\n",
       "    <tr>\n",
       "      <th>5</th>\n",
       "      <td>ZTS</td>\n",
       "      <td>CDW</td>\n",
       "      <td>0.985321</td>\n",
       "    </tr>\n",
       "    <tr>\n",
       "      <th>6</th>\n",
       "      <td>PGR</td>\n",
       "      <td>MSCI</td>\n",
       "      <td>0.985392</td>\n",
       "    </tr>\n",
       "    <tr>\n",
       "      <th>7</th>\n",
       "      <td>SHW</td>\n",
       "      <td>TMO</td>\n",
       "      <td>0.985418</td>\n",
       "    </tr>\n",
       "    <tr>\n",
       "      <th>8</th>\n",
       "      <td>ZTS</td>\n",
       "      <td>MSCI</td>\n",
       "      <td>0.985470</td>\n",
       "    </tr>\n",
       "    <tr>\n",
       "      <th>9</th>\n",
       "      <td>MSCI</td>\n",
       "      <td>CDW</td>\n",
       "      <td>0.985727</td>\n",
       "    </tr>\n",
       "    <tr>\n",
       "      <th>10</th>\n",
       "      <td>ACN</td>\n",
       "      <td>TMO</td>\n",
       "      <td>0.985767</td>\n",
       "    </tr>\n",
       "    <tr>\n",
       "      <th>11</th>\n",
       "      <td>AEP</td>\n",
       "      <td>AWK</td>\n",
       "      <td>0.985800</td>\n",
       "    </tr>\n",
       "    <tr>\n",
       "      <th>12</th>\n",
       "      <td>ACN</td>\n",
       "      <td>HON</td>\n",
       "      <td>0.985824</td>\n",
       "    </tr>\n",
       "    <tr>\n",
       "      <th>13</th>\n",
       "      <td>ROP</td>\n",
       "      <td>MTD</td>\n",
       "      <td>0.985858</td>\n",
       "    </tr>\n",
       "    <tr>\n",
       "      <th>14</th>\n",
       "      <td>SNPS</td>\n",
       "      <td>CDW</td>\n",
       "      <td>0.986018</td>\n",
       "    </tr>\n",
       "    <tr>\n",
       "      <th>15</th>\n",
       "      <td>UA</td>\n",
       "      <td>UAA</td>\n",
       "      <td>0.986155</td>\n",
       "    </tr>\n",
       "    <tr>\n",
       "      <th>16</th>\n",
       "      <td>BR</td>\n",
       "      <td>CTAS</td>\n",
       "      <td>0.986420</td>\n",
       "    </tr>\n",
       "    <tr>\n",
       "      <th>17</th>\n",
       "      <td>ZTS</td>\n",
       "      <td>INTU</td>\n",
       "      <td>0.986444</td>\n",
       "    </tr>\n",
       "    <tr>\n",
       "      <th>18</th>\n",
       "      <td>BDX</td>\n",
       "      <td>GOOG</td>\n",
       "      <td>0.986568</td>\n",
       "    </tr>\n",
       "    <tr>\n",
       "      <th>19</th>\n",
       "      <td>PYPL</td>\n",
       "      <td>ROP</td>\n",
       "      <td>0.986713</td>\n",
       "    </tr>\n",
       "    <tr>\n",
       "      <th>20</th>\n",
       "      <td>MSCI</td>\n",
       "      <td>ADBE</td>\n",
       "      <td>0.986881</td>\n",
       "    </tr>\n",
       "    <tr>\n",
       "      <th>21</th>\n",
       "      <td>AMT</td>\n",
       "      <td>TDG</td>\n",
       "      <td>0.987038</td>\n",
       "    </tr>\n",
       "    <tr>\n",
       "      <th>22</th>\n",
       "      <td>SHW</td>\n",
       "      <td>ROP</td>\n",
       "      <td>0.987069</td>\n",
       "    </tr>\n",
       "    <tr>\n",
       "      <th>23</th>\n",
       "      <td>ZTS</td>\n",
       "      <td>MSFT</td>\n",
       "      <td>0.987089</td>\n",
       "    </tr>\n",
       "    <tr>\n",
       "      <th>24</th>\n",
       "      <td>SHW</td>\n",
       "      <td>IT</td>\n",
       "      <td>0.987093</td>\n",
       "    </tr>\n",
       "    <tr>\n",
       "      <th>25</th>\n",
       "      <td>AMZN</td>\n",
       "      <td>NFLX</td>\n",
       "      <td>0.987194</td>\n",
       "    </tr>\n",
       "    <tr>\n",
       "      <th>26</th>\n",
       "      <td>IEX</td>\n",
       "      <td>SPGI</td>\n",
       "      <td>0.987281</td>\n",
       "    </tr>\n",
       "    <tr>\n",
       "      <th>27</th>\n",
       "      <td>TDG</td>\n",
       "      <td>COST</td>\n",
       "      <td>0.987308</td>\n",
       "    </tr>\n",
       "    <tr>\n",
       "      <th>28</th>\n",
       "      <td>VRSK</td>\n",
       "      <td>TDG</td>\n",
       "      <td>0.987437</td>\n",
       "    </tr>\n",
       "    <tr>\n",
       "      <th>29</th>\n",
       "      <td>VRSK</td>\n",
       "      <td>COST</td>\n",
       "      <td>0.987461</td>\n",
       "    </tr>\n",
       "    <tr>\n",
       "      <th>30</th>\n",
       "      <td>ACN</td>\n",
       "      <td>COST</td>\n",
       "      <td>0.987493</td>\n",
       "    </tr>\n",
       "    <tr>\n",
       "      <th>31</th>\n",
       "      <td>ROP</td>\n",
       "      <td>ACN</td>\n",
       "      <td>0.987533</td>\n",
       "    </tr>\n",
       "    <tr>\n",
       "      <th>32</th>\n",
       "      <td>ROP</td>\n",
       "      <td>TMO</td>\n",
       "      <td>0.987819</td>\n",
       "    </tr>\n",
       "    <tr>\n",
       "      <th>33</th>\n",
       "      <td>ZTS</td>\n",
       "      <td>CTAS</td>\n",
       "      <td>0.988210</td>\n",
       "    </tr>\n",
       "    <tr>\n",
       "      <th>34</th>\n",
       "      <td>RTN</td>\n",
       "      <td>HII</td>\n",
       "      <td>0.988508</td>\n",
       "    </tr>\n",
       "    <tr>\n",
       "      <th>35</th>\n",
       "      <td>TFX</td>\n",
       "      <td>SPGI</td>\n",
       "      <td>0.988527</td>\n",
       "    </tr>\n",
       "    <tr>\n",
       "      <th>36</th>\n",
       "      <td>SHW</td>\n",
       "      <td>ACN</td>\n",
       "      <td>0.988788</td>\n",
       "    </tr>\n",
       "    <tr>\n",
       "      <th>37</th>\n",
       "      <td>JKHY</td>\n",
       "      <td>GOOG</td>\n",
       "      <td>0.988870</td>\n",
       "    </tr>\n",
       "    <tr>\n",
       "      <th>38</th>\n",
       "      <td>ACN</td>\n",
       "      <td>IT</td>\n",
       "      <td>0.988886</td>\n",
       "    </tr>\n",
       "    <tr>\n",
       "      <th>39</th>\n",
       "      <td>NWSA</td>\n",
       "      <td>NWS</td>\n",
       "      <td>0.989140</td>\n",
       "    </tr>\n",
       "    <tr>\n",
       "      <th>40</th>\n",
       "      <td>AMT</td>\n",
       "      <td>SBAC</td>\n",
       "      <td>0.989419</td>\n",
       "    </tr>\n",
       "    <tr>\n",
       "      <th>41</th>\n",
       "      <td>CTAS</td>\n",
       "      <td>CDW</td>\n",
       "      <td>0.989959</td>\n",
       "    </tr>\n",
       "    <tr>\n",
       "      <th>42</th>\n",
       "      <td>MSFT</td>\n",
       "      <td>CDW</td>\n",
       "      <td>0.990105</td>\n",
       "    </tr>\n",
       "    <tr>\n",
       "      <th>43</th>\n",
       "      <td>CMS</td>\n",
       "      <td>AWK</td>\n",
       "      <td>0.990508</td>\n",
       "    </tr>\n",
       "    <tr>\n",
       "      <th>44</th>\n",
       "      <td>MSCI</td>\n",
       "      <td>MSFT</td>\n",
       "      <td>0.991084</td>\n",
       "    </tr>\n",
       "    <tr>\n",
       "      <th>45</th>\n",
       "      <td>AON</td>\n",
       "      <td>TMO</td>\n",
       "      <td>0.991216</td>\n",
       "    </tr>\n",
       "    <tr>\n",
       "      <th>46</th>\n",
       "      <td>LMT</td>\n",
       "      <td>RTN</td>\n",
       "      <td>0.991287</td>\n",
       "    </tr>\n",
       "    <tr>\n",
       "      <th>47</th>\n",
       "      <td>ATO</td>\n",
       "      <td>AWK</td>\n",
       "      <td>0.991951</td>\n",
       "    </tr>\n",
       "    <tr>\n",
       "      <th>48</th>\n",
       "      <td>XEL</td>\n",
       "      <td>AWK</td>\n",
       "      <td>0.994548</td>\n",
       "    </tr>\n",
       "    <tr>\n",
       "      <th>49</th>\n",
       "      <td>DISCK</td>\n",
       "      <td>DISCA</td>\n",
       "      <td>0.996403</td>\n",
       "    </tr>\n",
       "  </tbody>\n",
       "</table>\n",
       "</div>"
      ],
      "text/plain": [
       "     col1   col2      corr\n",
       "0     FRT    SPG  0.985151\n",
       "1     NEE    AWK  0.985263\n",
       "2    CINF    AWK  0.985272\n",
       "3     AON    MTD  0.985286\n",
       "4    PYPL    PGR  0.985315\n",
       "5     ZTS    CDW  0.985321\n",
       "6     PGR   MSCI  0.985392\n",
       "7     SHW    TMO  0.985418\n",
       "8     ZTS   MSCI  0.985470\n",
       "9    MSCI    CDW  0.985727\n",
       "10    ACN    TMO  0.985767\n",
       "11    AEP    AWK  0.985800\n",
       "12    ACN    HON  0.985824\n",
       "13    ROP    MTD  0.985858\n",
       "14   SNPS    CDW  0.986018\n",
       "15     UA    UAA  0.986155\n",
       "16     BR   CTAS  0.986420\n",
       "17    ZTS   INTU  0.986444\n",
       "18    BDX   GOOG  0.986568\n",
       "19   PYPL    ROP  0.986713\n",
       "20   MSCI   ADBE  0.986881\n",
       "21    AMT    TDG  0.987038\n",
       "22    SHW    ROP  0.987069\n",
       "23    ZTS   MSFT  0.987089\n",
       "24    SHW     IT  0.987093\n",
       "25   AMZN   NFLX  0.987194\n",
       "26    IEX   SPGI  0.987281\n",
       "27    TDG   COST  0.987308\n",
       "28   VRSK    TDG  0.987437\n",
       "29   VRSK   COST  0.987461\n",
       "30    ACN   COST  0.987493\n",
       "31    ROP    ACN  0.987533\n",
       "32    ROP    TMO  0.987819\n",
       "33    ZTS   CTAS  0.988210\n",
       "34    RTN    HII  0.988508\n",
       "35    TFX   SPGI  0.988527\n",
       "36    SHW    ACN  0.988788\n",
       "37   JKHY   GOOG  0.988870\n",
       "38    ACN     IT  0.988886\n",
       "39   NWSA    NWS  0.989140\n",
       "40    AMT   SBAC  0.989419\n",
       "41   CTAS    CDW  0.989959\n",
       "42   MSFT    CDW  0.990105\n",
       "43    CMS    AWK  0.990508\n",
       "44   MSCI   MSFT  0.991084\n",
       "45    AON    TMO  0.991216\n",
       "46    LMT    RTN  0.991287\n",
       "47    ATO    AWK  0.991951\n",
       "48    XEL    AWK  0.994548\n",
       "49  DISCK  DISCA  0.996403"
      ]
     },
     "execution_count": 16,
     "metadata": {
      "tags": []
     },
     "output_type": "execute_result"
    }
   ],
   "source": [
    "top_corr = get_top_correlations(stocks, n=50)\n",
    "\n",
    "\n",
    "top50 = pd.DataFrame(columns=['col1', 'col2', 'corr'])\n",
    "\n",
    "for i in top_corr.index:\n",
    "    cor = stocks[i[0]].corr(stocks[i[1]])\n",
    "    top50.loc[-1] = [i[0], i[1], cor]\n",
    "    top50.index = top50.index + 1  # shifting index\n",
    "    top50 = top50.sort_index()  \n",
    "\n",
    "top50"
   ]
  },
  {
   "cell_type": "markdown",
   "metadata": {
    "colab_type": "text",
    "id": "sI4vmNVVj7zA"
   },
   "source": [
    "Correlation between companies with maximum market share in each industry\n",
    "* We aggragate the data by 'GICS Sector', which defines the industry that each stock belongs to. \n",
    "* For each company with the maximum market share, we compute the correlation between those stocks again. We assume that they could be a good intepretation of how industries correlate with each other."
   ]
  },
  {
   "cell_type": "code",
   "execution_count": 0,
   "metadata": {
    "colab": {},
    "colab_type": "code",
    "id": "NbL8a9YoQLZx"
   },
   "outputs": [],
   "source": [
    "st = glob.glob(\"./*.csv\")\n",
    "df1 = pd.read_csv(st[0])\n",
    "df2 = pd.read_csv(st[1])\n",
    "tmp = pd.merge(df1, df2, on='Symbol')[['Symbol', 'Weight', 'GICS Sector']]\n",
    "\n",
    "def get_max_weight_sector(df):\n",
    "    res = df.groupby('GICS Sector')['Weight'].max()\n",
    "    company = []\n",
    "    sectors = []\n",
    "    for sector in res.index:\n",
    "        tmp = df[df['GICS Sector'] == sector]\n",
    "        maxW = res[sector]\n",
    "        sectors.append(sector)\n",
    "        company.append(tmp[tmp['Weight'] == maxW]['Symbol'].values[0])\n",
    "        print(tmp[tmp['Weight'] == maxW]['Symbol'].values[0])\n",
    "\n",
    "    return company, sectors"
   ]
  },
  {
   "cell_type": "code",
   "execution_count": 0,
   "metadata": {
    "colab": {},
    "colab_type": "code",
    "id": "TEOrVUn-Q2ua",
    "outputId": "d9cda849-220d-4530-9b3c-5a618fed2ab0"
   },
   "outputs": [
    {
     "name": "stdout",
     "output_type": "stream",
     "text": [
      "AMZN\n",
      "XOM\n",
      "BRK.B\n",
      "JNJ\n",
      "BA\n",
      "MSFT\n",
      "LIN\n",
      "AMT\n",
      "NEE\n"
     ]
    },
    {
     "data": {
      "text/html": [
       "<div>\n",
       "<style scoped>\n",
       "    .dataframe tbody tr th:only-of-type {\n",
       "        vertical-align: middle;\n",
       "    }\n",
       "\n",
       "    .dataframe tbody tr th {\n",
       "        vertical-align: top;\n",
       "    }\n",
       "\n",
       "    .dataframe thead th {\n",
       "        text-align: right;\n",
       "    }\n",
       "</style>\n",
       "<table border=\"1\" class=\"dataframe\">\n",
       "  <thead>\n",
       "    <tr style=\"text-align: right;\">\n",
       "      <th></th>\n",
       "      <th>AMZN</th>\n",
       "      <th>XOM</th>\n",
       "      <th>BRK.B</th>\n",
       "      <th>JNJ</th>\n",
       "      <th>BA</th>\n",
       "      <th>MSFT</th>\n",
       "      <th>LIN</th>\n",
       "      <th>AMT</th>\n",
       "      <th>NEE</th>\n",
       "    </tr>\n",
       "  </thead>\n",
       "  <tbody>\n",
       "    <tr>\n",
       "      <th>AMZN</th>\n",
       "      <td>1.000000</td>\n",
       "      <td>0.291919</td>\n",
       "      <td>-0.551114</td>\n",
       "      <td>0.859861</td>\n",
       "      <td>0.970369</td>\n",
       "      <td>0.797001</td>\n",
       "      <td>0.816952</td>\n",
       "      <td>0.927816</td>\n",
       "      <td>0.956500</td>\n",
       "    </tr>\n",
       "    <tr>\n",
       "      <th>XOM</th>\n",
       "      <td>0.291919</td>\n",
       "      <td>1.000000</td>\n",
       "      <td>-0.416948</td>\n",
       "      <td>0.528649</td>\n",
       "      <td>0.343408</td>\n",
       "      <td>0.152149</td>\n",
       "      <td>0.591118</td>\n",
       "      <td>0.527479</td>\n",
       "      <td>0.301532</td>\n",
       "    </tr>\n",
       "    <tr>\n",
       "      <th>BRK.B</th>\n",
       "      <td>-0.551114</td>\n",
       "      <td>-0.416948</td>\n",
       "      <td>1.000000</td>\n",
       "      <td>-0.601491</td>\n",
       "      <td>-0.491875</td>\n",
       "      <td>-0.368964</td>\n",
       "      <td>-0.671741</td>\n",
       "      <td>-0.666071</td>\n",
       "      <td>-0.539286</td>\n",
       "    </tr>\n",
       "    <tr>\n",
       "      <th>JNJ</th>\n",
       "      <td>0.859861</td>\n",
       "      <td>0.528649</td>\n",
       "      <td>-0.601491</td>\n",
       "      <td>1.000000</td>\n",
       "      <td>0.857521</td>\n",
       "      <td>0.772634</td>\n",
       "      <td>0.737980</td>\n",
       "      <td>0.896797</td>\n",
       "      <td>0.884889</td>\n",
       "    </tr>\n",
       "    <tr>\n",
       "      <th>BA</th>\n",
       "      <td>0.970369</td>\n",
       "      <td>0.343408</td>\n",
       "      <td>-0.491875</td>\n",
       "      <td>0.857521</td>\n",
       "      <td>1.000000</td>\n",
       "      <td>0.768943</td>\n",
       "      <td>0.825187</td>\n",
       "      <td>0.919197</td>\n",
       "      <td>0.938609</td>\n",
       "    </tr>\n",
       "    <tr>\n",
       "      <th>MSFT</th>\n",
       "      <td>0.797001</td>\n",
       "      <td>0.152149</td>\n",
       "      <td>-0.368964</td>\n",
       "      <td>0.772634</td>\n",
       "      <td>0.768943</td>\n",
       "      <td>1.000000</td>\n",
       "      <td>0.444860</td>\n",
       "      <td>0.709892</td>\n",
       "      <td>0.778185</td>\n",
       "    </tr>\n",
       "    <tr>\n",
       "      <th>LIN</th>\n",
       "      <td>0.816952</td>\n",
       "      <td>0.591118</td>\n",
       "      <td>-0.671741</td>\n",
       "      <td>0.737980</td>\n",
       "      <td>0.825187</td>\n",
       "      <td>0.444860</td>\n",
       "      <td>1.000000</td>\n",
       "      <td>0.916747</td>\n",
       "      <td>0.811737</td>\n",
       "    </tr>\n",
       "    <tr>\n",
       "      <th>AMT</th>\n",
       "      <td>0.927816</td>\n",
       "      <td>0.527479</td>\n",
       "      <td>-0.666071</td>\n",
       "      <td>0.896797</td>\n",
       "      <td>0.919197</td>\n",
       "      <td>0.709892</td>\n",
       "      <td>0.916747</td>\n",
       "      <td>1.000000</td>\n",
       "      <td>0.933511</td>\n",
       "    </tr>\n",
       "    <tr>\n",
       "      <th>NEE</th>\n",
       "      <td>0.956500</td>\n",
       "      <td>0.301532</td>\n",
       "      <td>-0.539286</td>\n",
       "      <td>0.884889</td>\n",
       "      <td>0.938609</td>\n",
       "      <td>0.778185</td>\n",
       "      <td>0.811737</td>\n",
       "      <td>0.933511</td>\n",
       "      <td>1.000000</td>\n",
       "    </tr>\n",
       "  </tbody>\n",
       "</table>\n",
       "</div>"
      ],
      "text/plain": [
       "           AMZN       XOM     BRK.B       JNJ        BA      MSFT       LIN  \\\n",
       "AMZN   1.000000  0.291919 -0.551114  0.859861  0.970369  0.797001  0.816952   \n",
       "XOM    0.291919  1.000000 -0.416948  0.528649  0.343408  0.152149  0.591118   \n",
       "BRK.B -0.551114 -0.416948  1.000000 -0.601491 -0.491875 -0.368964 -0.671741   \n",
       "JNJ    0.859861  0.528649 -0.601491  1.000000  0.857521  0.772634  0.737980   \n",
       "BA     0.970369  0.343408 -0.491875  0.857521  1.000000  0.768943  0.825187   \n",
       "MSFT   0.797001  0.152149 -0.368964  0.772634  0.768943  1.000000  0.444860   \n",
       "LIN    0.816952  0.591118 -0.671741  0.737980  0.825187  0.444860  1.000000   \n",
       "AMT    0.927816  0.527479 -0.666071  0.896797  0.919197  0.709892  0.916747   \n",
       "NEE    0.956500  0.301532 -0.539286  0.884889  0.938609  0.778185  0.811737   \n",
       "\n",
       "            AMT       NEE  \n",
       "AMZN   0.927816  0.956500  \n",
       "XOM    0.527479  0.301532  \n",
       "BRK.B -0.666071 -0.539286  \n",
       "JNJ    0.896797  0.884889  \n",
       "BA     0.919197  0.938609  \n",
       "MSFT   0.709892  0.778185  \n",
       "LIN    0.916747  0.811737  \n",
       "AMT    1.000000  0.933511  \n",
       "NEE    0.933511  1.000000  "
      ]
     },
     "execution_count": 18,
     "metadata": {
      "tags": []
     },
     "output_type": "execute_result"
    }
   ],
   "source": [
    "company, sectors = get_max_weight_sector(tmp)\n",
    "df3 = stocks[company]\n",
    "corr = df3.corr()\n",
    "corr"
   ]
  },
  {
   "cell_type": "markdown",
   "metadata": {
    "colab_type": "text",
    "id": "w4Otsf0bkbQI"
   },
   "source": [
    "We visualize the correlation using a heatmap. BRK.B has a negative correlation with all the other companies. "
   ]
  },
  {
   "cell_type": "code",
   "execution_count": 0,
   "metadata": {
    "colab": {},
    "colab_type": "code",
    "id": "UbVGdRP5RCat",
    "outputId": "e508d40a-3f03-4b13-fc02-fe2980204ade"
   },
   "outputs": [
    {
     "data": {
      "image/png": "[encoded data removed]",
      "text/plain": [
       "<Figure size 720x720 with 2 Axes>"
      ]
     },
     "metadata": {
      "tags": []
     },
     "output_type": "display_data"
    }
   ],
   "source": [
    "fig, ax = plt.subplots(figsize=(10, 10))\n",
    "\n",
    "#Generate Heat Map, allow annotations and place floats in map\n",
    "sns.heatmap(corr, annot=True, vmin=-1, square='True')\n",
    "\n",
    "plt.show()"
   ]
  },
  {
   "cell_type": "markdown",
   "metadata": {
    "colab_type": "text",
    "id": "Y6922l88kqcu"
   },
   "source": [
    "Now we ran analysis on industry data"
   ]
  },
  {
   "cell_type": "code",
   "execution_count": 0,
   "metadata": {
    "colab": {},
    "colab_type": "code",
    "id": "CcWEKNmIRE8j"
   },
   "outputs": [],
   "source": [
    "def getIndustryData(filename):\n",
    "    ind = pd.DataFrame()\n",
    "    df = pd.read_csv(filename[0])\n",
    "    indname = filename[0].split(\"Industries/\")[1].split('.csv')[0]\n",
    "    ind = df[['timestamp', 'close']]\n",
    "    ind = ind.rename(columns={'close':indname})\n",
    "    for i in range(1, len(filename)):\n",
    "        df = pd.read_csv(filename[i])\n",
    "\n",
    "        indname = filename[i].split(\"Industries/\")[1].split('.csv')[0]\n",
    "        data = df[['timestamp', 'close']]\n",
    "        data = data.rename(columns={'close':indname})\n",
    "        ind = pd.merge(ind, data, on='timestamp', how='outer')\n",
    "    return ind"
   ]
  },
  {
   "cell_type": "markdown",
   "metadata": {
    "colab_type": "text",
    "id": "pvUSpZMvkxO_"
   },
   "source": [
    "We calculate the correlation between industries. \n",
    "\n",
    "From the figure, we can see that the industries are highly correlated. In particular, financials has negative correlation with all the other industries. Information Technology and Energy sectors have weaker correlation with other industries. The reason might be those industries are less sensitive to overall market change. "
   ]
  },
  {
   "cell_type": "code",
   "execution_count": 0,
   "metadata": {
    "colab": {},
    "colab_type": "code",
    "id": "mV595poOS-4X",
    "outputId": "4c0d4d53-b607-4b24-b01c-40524b8747f9"
   },
   "outputs": [
    {
     "data": {
      "image/png": "[encoded data removed]",
      "text/plain": [
       "<Figure size 720x720 with 2 Axes>"
      ]
     },
     "metadata": {
      "tags": []
     },
     "output_type": "display_data"
    }
   ],
   "source": [
    "filename = glob.glob(\"./Industries/*.csv\")\n",
    "\n",
    "ind = getIndustryData(filename)\n",
    "\n",
    "ind.set_index('timestamp', inplace=True)\n",
    "ind = ind.sort_index()\n",
    "\n",
    "corr_ind = ind.corr()\n",
    "\n",
    "\n",
    "fig, ax = plt.subplots(figsize=(10, 10))\n",
    "\n",
    "#Generate Heat Map, allow annotations and place floats in map\n",
    "sns.heatmap(corr_ind, annot=True, vmin=-1, square='True')\n",
    "\n",
    "plt.show()"
   ]
  },
  {
   "cell_type": "markdown",
   "metadata": {
    "colab_type": "text",
    "id": "yKcjcea3k4-4"
   },
   "source": [
    "Time series Analysis\n",
    "* We plot the trend over years for those stocks with maximum weight in each industry.\n",
    "* Stocks like Amzn see a significant increase in their stock price over years.\n",
    "* Other stocks like XOM flunctuates over years while the level of stock price does not change much. "
   ]
  },
  {
   "cell_type": "code",
   "execution_count": 0,
   "metadata": {
    "colab": {},
    "colab_type": "code",
    "id": "4aaSgDyCTUyh",
    "outputId": "9883d68d-629d-4e87-95b4-917dbb89209c"
   },
   "outputs": [
    {
     "data": {
      "image/png": "[encoded data removed]",
      "text/plain": [
       "<Figure size 432x288 with 1 Axes>"
      ]
     },
     "metadata": {
      "tags": []
     },
     "output_type": "display_data"
    },
    {
     "data": {
      "image/png": "[encoded data removed]",
      "text/plain": [
       "<Figure size 432x288 with 1 Axes>"
      ]
     },
     "metadata": {
      "tags": []
     },
     "output_type": "display_data"
    },
    {
     "data": {
      "image/png": "[encoded data removed]",
      "text/plain": [
       "<Figure size 432x288 with 1 Axes>"
      ]
     },
     "metadata": {
      "tags": []
     },
     "output_type": "display_data"
    },
    {
     "data": {
      "image/png": "[encoded data removed]",
      "text/plain": [
       "<Figure size 432x288 with 1 Axes>"
      ]
     },
     "metadata": {
      "tags": []
     },
     "output_type": "display_data"
    },
    {
     "data": {
      "image/png": "[encoded data removed]",
      "text/plain": [
       "<Figure size 432x288 with 1 Axes>"
      ]
     },
     "metadata": {
      "tags": []
     },
     "output_type": "display_data"
    },
    {
     "data": {
      "image/png": "[encoded data removed]",
      "text/plain": [
       "<Figure size 432x288 with 1 Axes>"
      ]
     },
     "metadata": {
      "tags": []
     },
     "output_type": "display_data"
    },
    {
     "data": {
      "image/png": "[encoded data removed]",
      "text/plain": [
       "<Figure size 432x288 with 1 Axes>"
      ]
     },
     "metadata": {
      "tags": []
     },
     "output_type": "display_data"
    },
    {
     "data": {
      "image/png": "[encoded data removed]",
      "text/plain": [
       "<Figure size 432x288 with 1 Axes>"
      ]
     },
     "metadata": {
      "tags": []
     },
     "output_type": "display_data"
    },
    {
     "data": {
      "image/png": "[encoded data removed]",
      "text/plain": [
       "<Figure size 432x288 with 1 Axes>"
      ]
     },
     "metadata": {
      "tags": []
     },
     "output_type": "display_data"
    }
   ],
   "source": [
    "df3 = df3.reset_index()\n",
    "for c in df3.columns:\n",
    "    if c == 'timestamp':\n",
    "        continue\n",
    "    df3.plot(x = 'timestamp' , y =c)\n"
   ]
  },
  {
   "cell_type": "markdown",
   "metadata": {
    "colab_type": "text",
    "id": "cMKk97gqlTW0"
   },
   "source": [
    "Specifically, we plot the stock price over years for Microsoft and Google. We could vision that Microsoft's stock price remained stable across years while Google's stock price increased significantly. It is a good indication for growth of business. "
   ]
  },
  {
   "cell_type": "code",
   "execution_count": 0,
   "metadata": {
    "colab": {},
    "colab_type": "code",
    "id": "LYr4hpuqTh77",
    "outputId": "ca184cdc-802a-4c21-ab0a-641dbdafe16e"
   },
   "outputs": [
    {
     "data": {
      "image/png": "[encoded data removed]",
      "text/plain": [
       "<Figure size 432x288 with 1 Axes>"
      ]
     },
     "metadata": {
      "tags": []
     },
     "output_type": "display_data"
    }
   ],
   "source": [
    "sreset = stocks.reset_index()\n",
    "ax = plt.gca()\n",
    "X = ['MSFT', 'GOOG']\n",
    "for n in X:\n",
    "    sreset.plot(x='timestamp',y=n,ax=ax)\n",
    "\n",
    "plt.show()"
   ]
  },
  {
   "cell_type": "markdown",
   "metadata": {
    "colab_type": "text",
    "id": "XUJdD5bAlW-y"
   },
   "source": [
    "In terms of stock return, we also look at the return we obtain from investing in Google vs. Microsoft. Clearly, the return for Microsoft is nearly zero while the return for Google is high."
   ]
  },
  {
   "cell_type": "code",
   "execution_count": 0,
   "metadata": {
    "colab": {},
    "colab_type": "code",
    "id": "XGcxd27fTkpx",
    "outputId": "6f44a6b9-7468-4eb3-b734-7072ad69881f"
   },
   "outputs": [
    {
     "data": {
      "text/plain": [
       "(array([   0.,  500., 1000., 1500., 2000., 2500., 3000., 3500., 4000.]),\n",
       " <a list of 9 Text xticklabel objects>)"
      ]
     },
     "execution_count": 23,
     "metadata": {
      "tags": []
     },
     "output_type": "execute_result"
    },
    {
     "data": {
      "image/png": "[encoded data removed]",
      "text/plain": [
       "<Figure size 432x288 with 1 Axes>"
      ]
     },
     "metadata": {
      "tags": []
     },
     "output_type": "display_data"
    }
   ],
   "source": [
    "stock = stocks[['MSFT', 'GOOG']]\n",
    "stock.dropna(inplace=True)\n",
    "stock_return = stock.apply(lambda x: x / x[0] - 1)\n",
    "\n",
    "fig, ax = plt.subplots()\n",
    "\n",
    "stock_return.plot(ax=ax).axhline(y = 1, color = \"black\", lw = 1)\n",
    "plt.xticks(rotation=45)"
   ]
  },
  {
   "cell_type": "code",
   "execution_count": null,
   "metadata": {},
   "outputs": [],
   "source": [
    "! pip install fbprophet\n",
    "from fbprophet import Prophet"
   ]
  },
  {
   "attachments": {},
   "cell_type": "markdown",
   "metadata": {
    "colab_type": "text",
    "id": "Frvd59COIBbH"
   },
   "source": [
    "### Facebook Prophet\n",
    "* __Motivation__:  As a libary developed and maintained by __Facebook__, `Prophet` can be very handy for time series data prediction and have various capabilities including seasonality extraction, trend estimation etc.\n",
    "* __Introduction__: `Prophet` is a procedure for forecasting time series data based on an additive model where non-linear trends are fit with yearly, weekly, and daily seasonality, plus holiday effects. It works best with time series that have strong seasonal effects and several seasons of historical data. Prophet is robust to missing data and shifts in the trend, and typically handles outliers well.Prophet is open source software released by Facebook’s Core Data Science team. It is available for download on CRAN and PyPI.\n",
    "* __Input__ : Prophet has sepecial requirement for the input formating. It only accept a dataframe with column __`ds` (time of the observation)__ and column __`y` (observation value)__. In this case, the stock's __`closing price`__ is the __`y`__ input while the __`date`__ is the __`ds`__ input.\n",
    "* __Output__ : The output of prophet is an object that contains various contents including predicted values, seasonality extraction and trend extraction. Besides, a confidence interval is offered for every predicted value.\n",
    "* __Result__ : Facebook Prophet generates a result that is similar to `ARIMA model`, which is a smooth trend with minor fluctuation.\n",
    "<img src=\"images/Prophet.png\" width = 600>\n",
    "<br><center>(graph) Prophet Prediction for Amazon Stock</center>"
   ]
  },
  {
   "cell_type": "code",
   "execution_count": 0,
   "metadata": {
    "colab": {},
    "colab_type": "code",
    "id": "TmbC7I5FH9T4"
   },
   "outputs": [],
   "source": [
    "def prophet (df):\n",
    "    data = df[df.index > '2013-11-14']\n",
    "    train_data = data[data.index < '2017-11-15']\n",
    "    val_data = data[data.index > '2017-11-14']\n",
    "  \n",
    "  #creating dataframe\n",
    "    new_data = pd.DataFrame(index=range(0,len(train_data)),columns=['date', 'close'])\n",
    "\n",
    "  \n",
    "    for i in range(0,len(train_data)):\n",
    "\n",
    "        new_data['date'][i] = train_data.index[i]\n",
    "\n",
    "        new_data['close'][i] = train_data['close'][i]\n",
    "\n",
    "  \n",
    "\n",
    "    new_data['date'] = pd.to_datetime(new_data.date,format='%Y-%m-%d')\n",
    "\n",
    "    new_data.index = new_data['date']\n",
    "\n",
    "  \n",
    "\n",
    "    #preparing data\n",
    "\n",
    "    new_data.rename(columns={'close': 'y', 'date': 'ds'}, inplace=True)\n",
    "\n",
    "  \n",
    "\n",
    "    #train and validation\n",
    "\n",
    "    train = new_data\n",
    "\n",
    "    valid = val_data\n",
    "\n",
    "\n",
    "\n",
    "    #fit the model\n",
    "\n",
    "    model = Prophet()\n",
    "\n",
    "    model.fit(train)\n",
    "\n",
    "\n",
    "\n",
    "    #predictions\n",
    "\n",
    "    close_prices = model.make_future_dataframe(periods=len(valid))\n",
    "\n",
    "    forecast = model.predict(close_prices)\n",
    "\n",
    "    preds = forecast[forecast['ds'] > '2017-11-14'][['yhat']]\n",
    "\n",
    "    rms=np.sqrt(np.mean(np.power((np.array(val_data['close'])-preds['yhat']),2)))\n",
    "\n",
    "    preds = np.array(preds['yhat'])\n",
    "\n",
    "    return preds,rms"
   ]
  },
  {
   "cell_type": "markdown",
   "metadata": {
    "colab_type": "text",
    "id": "qoGDu7_EIPbY"
   },
   "source": [
    "Recurrent Network Function"
   ]
  },
  {
   "cell_type": "code",
   "execution_count": null,
   "metadata": {},
   "outputs": [],
   "source": [
    "!pip install keras\n",
    "!pip install tensorflow"
   ]
  },
  {
   "attachments": {},
   "cell_type": "markdown",
   "metadata": {
    "colab_type": "text",
    "id": "zt8sA7SOcFZw"
   },
   "source": [
    "### Recurrent Neural Network\n",
    "* __Motivation__: Deep learning has become a hot field and neural network models can have superb peformance in many cases. `Recurrent neural network (RNN)` is a class of models that fit for __time-seires fashioned__ data.\n",
    "<br>\n",
    "* __Introduction__: In this stock prediction case, we use `Long short-term memory (LSTM)`, which is an artificial recurrent neural network (RNN) architecture used in the field of deep learning. Unlike standard feedforward neural networks, LSTM has feedback connections. It can not only process single data points (such as images), but also entire sequences of data (such as stock price series). \n",
    "* __Input__ : We use a network with two 50 units LSTM layers as our model. The input of LSTM network in this use case is __stock price sequence data__. We use `60` days look back window to create the input price sequence. That being said, each input of the model is a sequence of prices for one stock in 60 days.\n",
    "* __Output__ : Each output from the model should be one stock price point in the future. The model will take stock prices of the past 60 days to predict tomorrow's price\n",
    "* __Result__ : LSTM was able to generate a smooth trend at the begining. However, as we are predicting for two years, the LSTM needs to take its predictions as input to perform further preidiction. Therefore, the predicted values become flatten eventually. Besides, we observed LSTM was realtively computationally expensive (It took about 5 minutes for each epoch) and generated unstable results\n",
    "<img src=\"images/LSTM.png\" width = 600>\n",
    "<br><center>(graph) LSTM Prediction for Amazon Stock</center>"
   ]
  },
  {
   "cell_type": "code",
   "execution_count": 0,
   "metadata": {
    "colab": {},
    "colab_type": "code",
    "id": "-Gzxmy2NIHZH"
   },
   "outputs": [],
   "source": [
    "from sklearn.preprocessing import MinMaxScaler\n",
    "\n",
    "from keras.models import Sequential\n",
    "\n",
    "from keras.layers import Dense, Dropout, LSTM\n",
    "\n",
    "\n",
    "def network(df):\n",
    "  #creating dataframe\n",
    "\n",
    "    data = df[df.index > '2013-11-14'].sort_index(ascending=True, axis=0)\n",
    "\n",
    "    new_data = pd.DataFrame(index=range(0,len(data)),columns=['Date', 'Close'])\n",
    "\n",
    "    for i in range(0,len(data)):\n",
    "\n",
    "        new_data['Date'][i] = data.index[i]\n",
    "\n",
    "        new_data['Close'][i] = data['close'][i]\n",
    "\n",
    "  \n",
    "\n",
    "    #setting index\n",
    "\n",
    "    new_data.index = new_data.Date\n",
    "\n",
    "    new_data.drop('Date', axis=1, inplace=True)\n",
    "\n",
    "\n",
    "\n",
    "\n",
    "\n",
    "    dataset = new_data.values\n",
    "\n",
    "    train = new_data[new_data.index < '2017-11-15'].values\n",
    "\n",
    "    valid = new_data[new_data.index > '2017-11-14'].values\n",
    "\n",
    "\n",
    "\n",
    "    #converting dataset into x_train and y_train\n",
    "\n",
    "    scaler = MinMaxScaler(feature_range=(0, 1))\n",
    "\n",
    "    scaled_data = scaler.fit_transform(train)\n",
    "\n",
    "\n",
    "\n",
    "    x_train, y_train = [], []\n",
    "\n",
    "    for i in range(60,len(train)):\n",
    "\n",
    "        x_train.append(scaled_data[i-60:i,0])\n",
    "\n",
    "        y_train.append(scaled_data[i,0])\n",
    "\n",
    "    x_train, y_train = np.array(x_train), np.array(y_train)\n",
    "\n",
    "\n",
    "\n",
    "    x_train = np.reshape(x_train, (x_train.shape[0],x_train.shape[1],1))\n",
    "\n",
    "\n",
    "\n",
    "    # create and fit the LSTM network\n",
    "\n",
    "    model = Sequential()\n",
    "\n",
    "    model.add(LSTM(units=50, return_sequences=True, input_shape=(x_train.shape[1],1)))\n",
    "\n",
    "    model.add(LSTM(units=50))\n",
    "\n",
    "    model.add(Dense(1))\n",
    "\n",
    "\n",
    "\n",
    "    model.compile(loss='mean_squared_error', optimizer='adam')\n",
    "\n",
    "    model.fit(x_train, y_train, epochs=2, batch_size=1, verbose=0)\n",
    "\n",
    "    # No data feed. Predict based on past predictions\n",
    "\n",
    "    inputs = new_data[len(new_data) - len(valid) - 60: len(new_data) - len(valid) ].values\n",
    "\n",
    "    inputs = inputs.reshape(-1,1)\n",
    "\n",
    "    inputs  = scaler.transform(inputs)\n",
    "\n",
    "    predictions = []\n",
    "\n",
    "    for i in range(60,len(valid) + 60):\n",
    "\n",
    "        pred = model.predict(np.array([inputs]))[0][0]\n",
    "        inputs = np.append(inputs,pred)[-60:,np.newaxis]\n",
    "        predictions.append(pred)\n",
    "\n",
    "\n",
    "    preds = scaler.inverse_transform(np.array([predictions]))[0]\n",
    "\n",
    "    val_data = data[data.index > '2017-11-14']\n",
    "    rms=np.sqrt(np.mean(np.power((np.array(val_data['close'])-preds),2)))\n",
    "\n",
    "    return preds, rms\n",
    " "
   ]
  },
  {
   "cell_type": "markdown",
   "metadata": {
    "colab_type": "text",
    "id": "OObhcXwZIkIt"
   },
   "source": [
    "### Linear Regression \n",
    "* __Motivation__: Linear regression is the simplest machine learning model that could be implemented on the data set.  With linear regression, the model generates a linear equation that depicts the relationship between stock price and feature variables. \n",
    "<br>\n",
    "* __Introduction__: For linear regression, it predicts the relationship between change in response variable and change in independent variables (features). In our case, the response variable is __stock price__.\n",
    "* __Input__ : The input is time series of stock price from 2013-11-15 to 2017-11-14. Specifically, dates. We need to extract more meaningful features instead of only using \"Date\" as our feature. In our implementation, we extracted features like day of the week, day of the month, month of the year, etc. We utilized a package called [fastai](https://docs.fast.ai/install.html) to automate the feature engineering. __add_datepart__ will generate those features for you. This will generate features: 'Year', 'Month', 'Week', 'Day', 'Dayofweek', 'Dayofyear', 'Is_month_end', 'Is_month_start', 'Is_quarter_end', 'Is_quarter_start', 'Is_year_end', and 'Is_year_start'.\n",
    "* __Output__ : Output is prediction of stock price. \n",
    "\n",
    "* __Result__ : The RMSE value is high. By visualizing the data, we could see that the prediction values are \"off\" by a certain amount. However, the increasing trend for the stock price is correct. From linear regression model, we infer that such simple model can capture certain characteristics of time series prediction. However, we might overfit on features like month and date. Our model assigns the same value for the same date one month ago and the date one year ago, which may not be reasonable. \n",
    "<img src=\"images/LR.png\" width = 600>\n",
    "<br><center> Linear Regression Prediction for Amazon Stock</center>"
   ]
  },
  {
   "cell_type": "code",
   "execution_count": null,
   "metadata": {},
   "outputs": [],
   "source": [
    "!pip install fastai==0.7.0"
   ]
  },
  {
   "cell_type": "code",
   "execution_count": 0,
   "metadata": {
    "colab": {},
    "colab_type": "code",
    "id": "qY_Xg10TIqFL"
   },
   "outputs": [],
   "source": [
    "from fastai.structured import  add_datepart\n",
    "def generateFeatures(data):\n",
    "    #creating a separate dataset\n",
    "\n",
    "    new_data = data[['Date', 'close']]\n",
    "\n",
    "\n",
    "\n",
    "    #create features\n",
    "\n",
    "    add_datepart(new_data, 'Date')\n",
    "\n",
    "    new_data.drop('Elapsed', axis=1, inplace=True) \n",
    "\n",
    "    new_data['mon_fri'] = 0\n",
    "\n",
    "    for i in range(0,len(new_data)):\n",
    "\n",
    "        if (new_data['Dayofweek'][i] == 0 or new_data['Dayofweek'][i] == 4):\n",
    "\n",
    "            new_data['mon_fri'][i] = 1\n",
    "\n",
    "        else:\n",
    "\n",
    "            new_data['mon_fri'][i] = 0  \n",
    "\n",
    "    return new_data\n"
   ]
  },
  {
   "cell_type": "code",
   "execution_count": 0,
   "metadata": {
    "colab": {},
    "colab_type": "code",
    "id": "NYtPK2x8IsCh"
   },
   "outputs": [],
   "source": [
    "from sklearn.linear_model import LinearRegression\n",
    "\n",
    "\n",
    "def LR(data):\n",
    "    data = data.reset_index()\n",
    "    data['Date'] = pd.to_datetime(data.timestamp,format='%Y-%m-%d')\n",
    "\n",
    "    data.index = data['Date']\n",
    "    #sorting\n",
    "\n",
    "\n",
    "    data = data.sort_index(ascending=True, axis=0)\n",
    "\n",
    "    new_data = generateFeatures(data)\n",
    "\n",
    "\n",
    "\n",
    "    ## train \n",
    "    train_data = new_data[new_data.index < '2017-11-15']\n",
    "    mask = new_data.index > '2017-11-14'\n",
    "    val_data = new_data[mask]\n",
    "\n",
    "\n",
    "    #split into train and validation\n",
    "\n",
    "    x_train = train_data.drop('close', axis=1)\n",
    "\n",
    "    y_train = train_data['close']\n",
    "\n",
    "    x_valid = val_data.drop('close', axis=1)\n",
    "\n",
    "    y_valid = val_data['close']\n",
    "\n",
    "    #implement linear regression\n",
    "\n",
    "\n",
    "\n",
    "    model = LinearRegression()\n",
    "\n",
    "    model.fit(x_train,y_train)\n",
    "\n",
    "    #make predictions and find the rmse\n",
    "\n",
    "    preds = model.predict(x_valid)\n",
    "\n",
    "    rms=np.sqrt(np.mean(np.power((np.array(y_valid)-np.array(preds)),2)))\n",
    "\n",
    "\n",
    "    return preds, rms "
   ]
  },
  {
   "cell_type": "markdown",
   "metadata": {
    "colab_type": "text",
    "id": "6hjpFyZSI-Ha"
   },
   "source": [
    "### KNN\n",
    "* __Motivation__: Another traditional machine learning algorithm is KNN (K nearest neighbors). KNN can find similarities between old data and new data points, which may capture some changes under specific circumstances.\n",
    "<br>\n",
    "* __Introduction__: The simplest approach of KNN regression is to calculate the average value of the response variable from its K nearest neighbors. Choosing the optimal value of K can be done through __grid-search__. In our implementation, we search from 2 nearest neighbors to 9 nearest neighbors to find the best outcome.\n",
    "* __Input__ : The input is time series of stock price from 2013-11-15 to 2017-11-14. Specifically, dates. We need to extract more meaningful features instead of only using \"Date\" as our feature. In our implementation, we extracted features like day of the week, day of the month, month of the year, etc. We utilized a package called fastai to automate the feature engineering part. __add_datepart__ will generate those features for you. This will generate features: 'Year', 'Month', 'Week', 'Day', 'Dayofweek', 'Dayofyear', 'Is_month_end', 'Is_month_start', 'Is_quarter_end', 'Is_quarter_start', 'Is_year_end', and 'Is_year_start'. Since scale matters a lot in calculating distance, we __normalize__ the features before doing a train test split. \n",
    "* __Output__ : Output is prediction of stock price. \n",
    "\n",
    "* __Result__ : The RMSE value is high than linear regression. By visualizing the data, we could see that the prediction values are average of the previous data. That's the reason why the overall prediction is lower than the actual stock price. However, as shown in the figure, KNN can capture non-linear patterns (for instance, seasonal changes) in the time series data.\n",
    "<img src=\"images/KNN.png\" width = 600>\n",
    "<br><center> KNN Regression Prediction for Amazon Stock</center>"
   ]
  },
  {
   "cell_type": "code",
   "execution_count": 0,
   "metadata": {
    "colab": {},
    "colab_type": "code",
    "id": "lke21G6aI-wG"
   },
   "outputs": [],
   "source": [
    "from sklearn import neighbors\n",
    "\n",
    "from sklearn.model_selection import GridSearchCV\n",
    "\n",
    "from sklearn.preprocessing import MinMaxScaler\n",
    "\n",
    "def KNN(data):\n",
    "\n",
    "\n",
    "    scaler = MinMaxScaler(feature_range=(0, 1))\n",
    "    data = data.reset_index()\n",
    "    data['Date'] = pd.to_datetime(data.timestamp,format='%Y-%m-%d')\n",
    "\n",
    "    data.index = data['Date']\n",
    "    #sorting\n",
    "\n",
    "\n",
    "    data = data.sort_index(ascending=True, axis=0)\n",
    "\n",
    "    new_data = generateFeatures(data)\n",
    "\n",
    "\n",
    "\n",
    "    ## train \n",
    "    train_data = new_data[new_data.index < '2017-11-15']\n",
    "    mask = new_data.index > '2017-11-14'\n",
    "    val_data = new_data[mask]\n",
    "\n",
    "\n",
    "    #split into train and validation\n",
    "\n",
    "    x_train = train_data.drop('close', axis=1)\n",
    "\n",
    "    y_train = train_data['close']\n",
    "\n",
    "    x_valid = val_data.drop('close', axis=1)\n",
    "\n",
    "    y_valid = val_data['close']\n",
    "    \n",
    "    #scaling data\n",
    "\n",
    "    x_train_scaled = scaler.fit_transform(train_data)\n",
    "\n",
    "    x_train = pd.DataFrame(x_train_scaled)\n",
    "\n",
    "    x_valid_scaled = scaler.fit_transform(val_data)\n",
    "\n",
    "    x_valid = pd.DataFrame(x_valid_scaled)\n",
    "    \n",
    "    \n",
    "\n",
    "\n",
    "    #using gridsearch to find the best parameter\n",
    "\n",
    "    params = {'n_neighbors':[2,3,4,5,6,7,8,9]}\n",
    "\n",
    "    knn = neighbors.KNeighborsRegressor()\n",
    "\n",
    "\n",
    "\n",
    "    model = GridSearchCV(knn, params, cv=5)\n",
    "\n",
    "\n",
    "\n",
    "    #fit the model and make predictions\n",
    "\n",
    "    model.fit(x_train,y_train)\n",
    "\n",
    "    preds = model.predict(x_valid)  \n",
    "\n",
    "    rms=np.sqrt(np.mean(np.power((np.array(y_valid)-np.array(preds)),2)))\n",
    "\n",
    "\n",
    "\n",
    "    return preds, rms"
   ]
  },
  {
   "cell_type": "markdown",
   "metadata": {
    "colab_type": "text",
    "id": "ewVIfVPmiETh"
   },
   "source": [
    "### Moving Average\n",
    "* __Motivation__: `Moving Average` is a simple model used as a baseline to compare the performance of other models against.\n",
    "<br>\n",
    "* __Introduction__: In `Moving Average`, we compute the predictions by looking at the previous `n` data points and calculating their average. This serves as the first prediction. This prediction is then used in the making the next prediction and so on till we make predictions for all the data points in the validation set. \n",
    "* __Input__: The input of `Moving Average` in this use case is __stock price close value__. We use `n` days (size of validation data) look back window to create the input price sequence.\n",
    "* __Output__: Each output from the model should be one stock price point in the future. The model will take stock prices of the past `n` days to predict tomorrow's price.\n",
    "* __Result__: We see that the `Moving Average` model doesn't do a great job in predicting the prices or the trends.\n",
    "<img src=\"images/MA.png\" width = 600>\n",
    "<br><center>(graph) Moving Average Prediction for Amazon Stock</center>"
   ]
  },
  {
   "cell_type": "code",
   "execution_count": 0,
   "metadata": {
    "colab": {},
    "colab_type": "code",
    "id": "TT29HRhUJrX6"
   },
   "outputs": [],
   "source": [
    "def moving_average(df):\n",
    "    data = df[df.index > '2013-11-14']\n",
    "    data.index = pd.to_datetime(data.index)\n",
    "    new_data = pd.DataFrame(index = range (0, len(data)), columns = ['Date', 'Close'])\n",
    "\n",
    "    for i in range (0, len(data)):\n",
    "        new_data['Date'][i] = data.index[i]\n",
    "        new_data['Close'][i] = data['close'][i]\n",
    "        \n",
    "    new_data.set_index('Date', inplace=True)\n",
    "    new_data = new_data.sort_index()\n",
    "    \n",
    "    train_data = new_data[new_data.index < '2017-11-15']\n",
    "    mask = new_data.index > '2017-11-14'\n",
    "    val_data = new_data[mask]\n",
    "    \n",
    "    preds = []\n",
    "    n = len(val_data)\n",
    "    for i in range (0,n):\n",
    "        a = train_data['Close'][len(train_data)-n + i:].sum() + sum(preds)\n",
    "        b = a / n\n",
    "        preds.append(b)\n",
    "    \n",
    "    rms = np.sqrt(np.mean(np.power((np.array(val_data['Close'])-preds),2)))\n",
    "\n",
    "    preds = np.asarray(preds)\n",
    "    \n",
    "    return preds, rms"
   ]
  },
  {
   "cell_type": "markdown",
   "metadata": {
    "colab_type": "text",
    "id": "3f646ltUiHLq"
   },
   "source": [
    "### ARIMA\n",
    "* __Motivation__: `ARIMA` is short for 'Auto Regressive Integrated Moving Average'. It is a powerful time-series model that helps find trends in any given __time-series fashioned__ data.\n",
    "<br>\n",
    "* __Introduction__: `ARIMA` is actually a class of models that 'explains' a given time series based on its own past values, that is, its own lags and the lagged forecast errors, so that equation can be used to forecast future values. \n",
    "* __Input__: The input of `ARIMA` in this use case is __stock price close value__. \n",
    "* __Output__: Each output from the model should be one stock price point in the future. We decide the number of forecast periods we want and we set it equal to the length of the validation data.\n",
    "* __Result__: We see that the `ARIMA` model performs the best out of all the other models and the predictions made by it are pretty close to the actual values.\n",
    "<img src=\"images/ARIMA.png\" width = 600>\n",
    "<br><center>(graph) ARIMA Prediction for Amazon Stock</center>"
   ]
  },
  {
   "cell_type": "code",
   "execution_count": 0,
   "metadata": {
    "colab": {},
    "colab_type": "code",
    "id": "rNYaGfOCcFaA"
   },
   "outputs": [],
   "source": [
    "from statsmodels.tsa.arima_model import ARIMA"
   ]
  },
  {
   "cell_type": "code",
   "execution_count": 0,
   "metadata": {
    "colab": {},
    "colab_type": "code",
    "id": "tOmo6L9iJ0ID"
   },
   "outputs": [],
   "source": [
    "def arima_model(df):\n",
    "    data = df[df.index > '2013-11-14']\n",
    "    data.index = pd.to_datetime(data.index)\n",
    "    new_data = pd.DataFrame(index = range (0, len(data)), columns = ['Date', 'Close'])\n",
    "\n",
    "    for i in range (0, len(data)):\n",
    "        new_data['Date'][i] = data.index[i]\n",
    "        new_data['Close'][i] = data['close'][i]\n",
    "        \n",
    "    new_data.set_index('Date', inplace=True)\n",
    "    new_data = new_data.sort_index()\n",
    "    \n",
    "    train_data = new_data[new_data.index < '2017-11-15']\n",
    "    mask = new_data.index > '2017-11-14'\n",
    "    val_data = new_data[mask]\n",
    "\n",
    "    training = np.asarray(train_data['Close'])\n",
    "\n",
    "    validation = val_data['Close']\n",
    "\n",
    "    model = ARIMA(training,order=(0,1,0))\n",
    "    model = model.fit()\n",
    "\n",
    "    forecast = model.forecast(steps = len(val_data))[0]\n",
    "    \n",
    "\n",
    "\n",
    "\n",
    "    rms = np.sqrt (np.mean (np.power ((np.array (val_data['Close'])-forecast), 2)))\n",
    "\n",
    "\n",
    "    return forecast, rms"
   ]
  },
  {
   "cell_type": "markdown",
   "metadata": {
    "colab_type": "text",
    "id": "tGme8cvbrZU1"
   },
   "source": [
    "## Model Benchmarking\n",
    "\n",
    "In this part, we will run predictive models we mentioned above on top 10 stocks of each industry:\n",
    "* Industrials\n",
    "* Health Care\n",
    "* Information Technology\n",
    "* Consumer Discretionary\n",
    "* Utilities\n",
    "* Financials\n",
    "* Materials\n",
    "* Real Estate\n",
    "* Energy\n",
    "\n",
    "We rank stocks of each industry by their __`weights`__ for the _S&P 500 Index_. The __`weights`__ were loaded in the __Data Preprocessing__ Section.\n",
    " \n",
    "In the following box, we created index dictionaries to select top 10 stocks for each industry and create stock-industry mapping"
   ]
  },
  {
   "cell_type": "code",
   "execution_count": 0,
   "metadata": {
    "colab": {},
    "colab_type": "code",
    "id": "nb9z_EZtcFaE"
   },
   "outputs": [],
   "source": [
    "# Select the top 10 stocks for each industry with enough data as the model input\n",
    "top_10_stocks = []\n",
    "top_10_stock_industry_dict = {}\n",
    "for industry,stocks in reverse_industries_dict.items():\n",
    "    weights = {}\n",
    "    for stock in stocks:\n",
    "        if stock in model_inputs:\n",
    "            weights[stock] = weights_dict[stock]\n",
    "    top_10 = sorted(weights, key=weights.get, reverse=True)[:10]\n",
    "    top_10_stocks += top_10\n",
    "    top_10_stock_industry_dict[industry] = top_10"
   ]
  },
  {
   "cell_type": "markdown",
   "metadata": {
    "colab_type": "text",
    "id": "4s8OpQK-rghv"
   },
   "source": [
    "Now let's fit 6 models on top 10 stocks of all industries. The process took about 7 hours on AWS and the major bottleneck is training the LSTM."
   ]
  },
  {
   "cell_type": "code",
   "execution_count": 0,
   "metadata": {
    "colab": {},
    "colab_type": "code",
    "id": "hgcBqFnzcFaF",
    "outputId": "7ca7f57d-274b-40c1-d772-aa76232a22f4"
   },
   "outputs": [
    {
     "name": "stderr",
     "output_type": "stream",
     "text": [
      "INFO:fbprophet:Disabling daily seasonality. Run prophet with daily_seasonality=True to override this.\n"
     ]
    },
    {
     "name": "stdout",
     "output_type": "stream",
     "text": [
      "0 / 90 time: 281.3576441750047 out of 25322.18797575042\n"
     ]
    },
    {
     "name": "stderr",
     "output_type": "stream",
     "text": [
      "INFO:fbprophet:Disabling daily seasonality. Run prophet with daily_seasonality=True to override this.\n"
     ]
    },
    {
     "name": "stdout",
     "output_type": "stream",
     "text": [
      "1 / 90 time: 559.9373552000034 out of 25197.18098400015\n"
     ]
    },
    {
     "name": "stderr",
     "output_type": "stream",
     "text": [
      "INFO:fbprophet:Disabling daily seasonality. Run prophet with daily_seasonality=True to override this.\n",
      "/home/ubuntu/anaconda3/envs/tensorflow_p36/lib/python3.6/site-packages/sklearn/model_selection/_search.py:814: DeprecationWarning:\n",
      "\n",
      "The default of the `iid` parameter will change from True to False in version 0.22 and will be removed in 0.24. This will change numeric results when test-set sizes are unequal.\n",
      "\n"
     ]
    },
    {
     "name": "stdout",
     "output_type": "stream",
     "text": [
      "2 / 90 time: 840.5144437029958 out of 25215.433311089873\n"
     ]
    },
    {
     "name": "stderr",
     "output_type": "stream",
     "text": [
      "INFO:fbprophet:Disabling daily seasonality. Run prophet with daily_seasonality=True to override this.\n",
      "/home/ubuntu/anaconda3/envs/tensorflow_p36/lib/python3.6/site-packages/sklearn/model_selection/_search.py:814: DeprecationWarning:\n",
      "\n",
      "The default of the `iid` parameter will change from True to False in version 0.22 and will be removed in 0.24. This will change numeric results when test-set sizes are unequal.\n",
      "\n"
     ]
    },
    {
     "name": "stdout",
     "output_type": "stream",
     "text": [
      "3 / 90 time: 1118.45849807997 out of 25165.316206799325\n"
     ]
    },
    {
     "name": "stderr",
     "output_type": "stream",
     "text": [
      "INFO:fbprophet:Disabling daily seasonality. Run prophet with daily_seasonality=True to override this.\n"
     ]
    },
    {
     "name": "stdout",
     "output_type": "stream",
     "text": [
      "4 / 90 time: 1396.405550417956 out of 25135.299907523207\n"
     ]
    },
    {
     "name": "stderr",
     "output_type": "stream",
     "text": [
      "INFO:fbprophet:Disabling daily seasonality. Run prophet with daily_seasonality=True to override this.\n"
     ]
    },
    {
     "name": "stdout",
     "output_type": "stream",
     "text": [
      "5 / 90 time: 1676.0098068619845 out of 25140.147102929768\n"
     ]
    },
    {
     "name": "stderr",
     "output_type": "stream",
     "text": [
      "INFO:fbprophet:Disabling daily seasonality. Run prophet with daily_seasonality=True to override this.\n",
      "/home/ubuntu/anaconda3/envs/tensorflow_p36/lib/python3.6/site-packages/sklearn/model_selection/_search.py:814: DeprecationWarning:\n",
      "\n",
      "The default of the `iid` parameter will change from True to False in version 0.22 and will be removed in 0.24. This will change numeric results when test-set sizes are unequal.\n",
      "\n"
     ]
    },
    {
     "name": "stdout",
     "output_type": "stream",
     "text": [
      "7 / 90 time: 2240.1707743649604 out of 25201.921211605804\n"
     ]
    },
    {
     "name": "stderr",
     "output_type": "stream",
     "text": [
      "INFO:fbprophet:Disabling daily seasonality. Run prophet with daily_seasonality=True to override this.\n"
     ]
    },
    {
     "name": "stdout",
     "output_type": "stream",
     "text": [
      "8 / 90 time: 2522.6187698299764 out of 25226.187698299764\n"
     ]
    },
    {
     "name": "stderr",
     "output_type": "stream",
     "text": [
      "INFO:fbprophet:Disabling daily seasonality. Run prophet with daily_seasonality=True to override this.\n",
      "/home/ubuntu/anaconda3/envs/tensorflow_p36/lib/python3.6/site-packages/sklearn/model_selection/_search.py:814: DeprecationWarning:\n",
      "\n",
      "The default of the `iid` parameter will change from True to False in version 0.22 and will be removed in 0.24. This will change numeric results when test-set sizes are unequal.\n",
      "\n"
     ]
    },
    {
     "name": "stdout",
     "output_type": "stream",
     "text": [
      "9 / 90 time: 2804.3972973659984 out of 25239.575676293985\n"
     ]
    },
    {
     "name": "stderr",
     "output_type": "stream",
     "text": [
      "INFO:fbprophet:Disabling daily seasonality. Run prophet with daily_seasonality=True to override this.\n"
     ]
    },
    {
     "name": "stdout",
     "output_type": "stream",
     "text": [
      "10 / 90 time: 3087.7262555949856 out of 25263.214818504428\n"
     ]
    },
    {
     "name": "stderr",
     "output_type": "stream",
     "text": [
      "INFO:fbprophet:Disabling daily seasonality. Run prophet with daily_seasonality=True to override this.\n",
      "/home/ubuntu/anaconda3/envs/tensorflow_p36/lib/python3.6/site-packages/sklearn/model_selection/_search.py:814: DeprecationWarning:\n",
      "\n",
      "The default of the `iid` parameter will change from True to False in version 0.22 and will be removed in 0.24. This will change numeric results when test-set sizes are unequal.\n",
      "\n"
     ]
    },
    {
     "name": "stdout",
     "output_type": "stream",
     "text": [
      "11 / 90 time: 3370.8869233859587 out of 25281.65192539469\n"
     ]
    },
    {
     "name": "stderr",
     "output_type": "stream",
     "text": [
      "INFO:fbprophet:Disabling daily seasonality. Run prophet with daily_seasonality=True to override this.\n",
      "/home/ubuntu/anaconda3/envs/tensorflow_p36/lib/python3.6/site-packages/sklearn/model_selection/_search.py:814: DeprecationWarning:\n",
      "\n",
      "The default of the `iid` parameter will change from True to False in version 0.22 and will be removed in 0.24. This will change numeric results when test-set sizes are unequal.\n",
      "\n"
     ]
    },
    {
     "name": "stdout",
     "output_type": "stream",
     "text": [
      "12 / 90 time: 3655.5297118029557 out of 25307.513389405078\n"
     ]
    },
    {
     "name": "stderr",
     "output_type": "stream",
     "text": [
      "INFO:fbprophet:Disabling daily seasonality. Run prophet with daily_seasonality=True to override this.\n",
      "/home/ubuntu/anaconda3/envs/tensorflow_p36/lib/python3.6/site-packages/sklearn/model_selection/_search.py:814: DeprecationWarning:\n",
      "\n",
      "The default of the `iid` parameter will change from True to False in version 0.22 and will be removed in 0.24. This will change numeric results when test-set sizes are unequal.\n",
      "\n"
     ]
    },
    {
     "name": "stdout",
     "output_type": "stream",
     "text": [
      "13 / 90 time: 3938.381218087976 out of 25318.164973422703\n"
     ]
    },
    {
     "name": "stderr",
     "output_type": "stream",
     "text": [
      "INFO:fbprophet:Disabling daily seasonality. Run prophet with daily_seasonality=True to override this.\n"
     ]
    },
    {
     "name": "stdout",
     "output_type": "stream",
     "text": [
      "14 / 90 time: 4223.271015527949 out of 25339.626093167695\n"
     ]
    },
    {
     "name": "stderr",
     "output_type": "stream",
     "text": [
      "INFO:fbprophet:Disabling daily seasonality. Run prophet with daily_seasonality=True to override this.\n",
      "/home/ubuntu/anaconda3/envs/tensorflow_p36/lib/python3.6/site-packages/sklearn/model_selection/_search.py:814: DeprecationWarning:\n",
      "\n",
      "The default of the `iid` parameter will change from True to False in version 0.22 and will be removed in 0.24. This will change numeric results when test-set sizes are unequal.\n",
      "\n"
     ]
    },
    {
     "name": "stdout",
     "output_type": "stream",
     "text": [
      "15 / 90 time: 4509.01508067298 out of 25363.20982878551\n"
     ]
    },
    {
     "name": "stderr",
     "output_type": "stream",
     "text": [
      "INFO:fbprophet:Disabling daily seasonality. Run prophet with daily_seasonality=True to override this.\n"
     ]
    },
    {
     "name": "stdout",
     "output_type": "stream",
     "text": [
      "16 / 90 time: 4795.417513261957 out of 25387.504481975066\n"
     ]
    },
    {
     "name": "stderr",
     "output_type": "stream",
     "text": [
      "INFO:fbprophet:Disabling daily seasonality. Run prophet with daily_seasonality=True to override this.\n",
      "/home/ubuntu/anaconda3/envs/tensorflow_p36/lib/python3.6/site-packages/sklearn/model_selection/_search.py:814: DeprecationWarning:\n",
      "\n",
      "The default of the `iid` parameter will change from True to False in version 0.22 and will be removed in 0.24. This will change numeric results when test-set sizes are unequal.\n",
      "\n"
     ]
    },
    {
     "name": "stdout",
     "output_type": "stream",
     "text": [
      "17 / 90 time: 5079.744758593966 out of 25398.72379296983\n"
     ]
    },
    {
     "name": "stderr",
     "output_type": "stream",
     "text": [
      "INFO:fbprophet:Disabling daily seasonality. Run prophet with daily_seasonality=True to override this.\n",
      "/home/ubuntu/anaconda3/envs/tensorflow_p36/lib/python3.6/site-packages/sklearn/model_selection/_search.py:814: DeprecationWarning:\n",
      "\n",
      "The default of the `iid` parameter will change from True to False in version 0.22 and will be removed in 0.24. This will change numeric results when test-set sizes are unequal.\n",
      "\n"
     ]
    },
    {
     "name": "stdout",
     "output_type": "stream",
     "text": [
      "18 / 90 time: 5365.6597008549725 out of 25416.282793523555\n"
     ]
    },
    {
     "name": "stderr",
     "output_type": "stream",
     "text": [
      "INFO:fbprophet:Disabling daily seasonality. Run prophet with daily_seasonality=True to override this.\n"
     ]
    },
    {
     "name": "stdout",
     "output_type": "stream",
     "text": [
      "19 / 90 time: 5652.778805885988 out of 25437.504626486945\n"
     ]
    },
    {
     "name": "stderr",
     "output_type": "stream",
     "text": [
      "INFO:fbprophet:Disabling daily seasonality. Run prophet with daily_seasonality=True to override this.\n"
     ]
    },
    {
     "name": "stdout",
     "output_type": "stream",
     "text": [
      "20 / 90 time: 5939.105443573964 out of 25453.309043888417\n"
     ]
    },
    {
     "name": "stderr",
     "output_type": "stream",
     "text": [
      "INFO:fbprophet:Disabling daily seasonality. Run prophet with daily_seasonality=True to override this.\n"
     ]
    },
    {
     "name": "stdout",
     "output_type": "stream",
     "text": [
      "21 / 90 time: 6228.159430653963 out of 25478.834034493484\n"
     ]
    },
    {
     "name": "stderr",
     "output_type": "stream",
     "text": [
      "INFO:fbprophet:Disabling daily seasonality. Run prophet with daily_seasonality=True to override this.\n",
      "/home/ubuntu/anaconda3/envs/tensorflow_p36/lib/python3.6/site-packages/sklearn/model_selection/_search.py:814: DeprecationWarning:\n",
      "\n",
      "The default of the `iid` parameter will change from True to False in version 0.22 and will be removed in 0.24. This will change numeric results when test-set sizes are unequal.\n",
      "\n"
     ]
    },
    {
     "name": "stdout",
     "output_type": "stream",
     "text": [
      "22 / 90 time: 6515.362171228975 out of 25494.89545263512\n"
     ]
    },
    {
     "name": "stderr",
     "output_type": "stream",
     "text": [
      "INFO:fbprophet:Disabling daily seasonality. Run prophet with daily_seasonality=True to override this.\n"
     ]
    },
    {
     "name": "stdout",
     "output_type": "stream",
     "text": [
      "23 / 90 time: 6803.299793955986 out of 25512.37422733495\n"
     ]
    },
    {
     "name": "stderr",
     "output_type": "stream",
     "text": [
      "INFO:fbprophet:Disabling daily seasonality. Run prophet with daily_seasonality=True to override this.\n"
     ]
    },
    {
     "name": "stdout",
     "output_type": "stream",
     "text": [
      "24 / 90 time: 7089.477419502975 out of 25522.11871021071\n"
     ]
    },
    {
     "name": "stderr",
     "output_type": "stream",
     "text": [
      "INFO:fbprophet:Disabling daily seasonality. Run prophet with daily_seasonality=True to override this.\n"
     ]
    },
    {
     "name": "stdout",
     "output_type": "stream",
     "text": [
      "25 / 90 time: 7378.218944405962 out of 25539.988653712946\n"
     ]
    },
    {
     "name": "stderr",
     "output_type": "stream",
     "text": [
      "INFO:fbprophet:Disabling daily seasonality. Run prophet with daily_seasonality=True to override this.\n"
     ]
    },
    {
     "name": "stdout",
     "output_type": "stream",
     "text": [
      "26 / 90 time: 7666.837793117971 out of 25556.125977059903\n"
     ]
    },
    {
     "name": "stderr",
     "output_type": "stream",
     "text": [
      "INFO:fbprophet:Disabling daily seasonality. Run prophet with daily_seasonality=True to override this.\n"
     ]
    },
    {
     "name": "stdout",
     "output_type": "stream",
     "text": [
      "27 / 90 time: 7956.373979710974 out of 25574.05922049956\n"
     ]
    },
    {
     "name": "stderr",
     "output_type": "stream",
     "text": [
      "INFO:fbprophet:Disabling daily seasonality. Run prophet with daily_seasonality=True to override this.\n"
     ]
    },
    {
     "name": "stdout",
     "output_type": "stream",
     "text": [
      "28 / 90 time: 8244.82479506795 out of 25587.38729503847\n"
     ]
    },
    {
     "name": "stderr",
     "output_type": "stream",
     "text": [
      "INFO:fbprophet:Disabling daily seasonality. Run prophet with daily_seasonality=True to override this.\n",
      "/home/ubuntu/anaconda3/envs/tensorflow_p36/lib/python3.6/site-packages/sklearn/model_selection/_search.py:814: DeprecationWarning:\n",
      "\n",
      "The default of the `iid` parameter will change from True to False in version 0.22 and will be removed in 0.24. This will change numeric results when test-set sizes are unequal.\n",
      "\n"
     ]
    },
    {
     "name": "stdout",
     "output_type": "stream",
     "text": [
      "29 / 90 time: 8535.743395967991 out of 25607.230187903973\n"
     ]
    },
    {
     "name": "stderr",
     "output_type": "stream",
     "text": [
      "INFO:fbprophet:Disabling daily seasonality. Run prophet with daily_seasonality=True to override this.\n"
     ]
    },
    {
     "name": "stdout",
     "output_type": "stream",
     "text": [
      "30 / 90 time: 8828.101116982987 out of 25629.970984789317\n"
     ]
    },
    {
     "name": "stderr",
     "output_type": "stream",
     "text": [
      "INFO:fbprophet:Disabling daily seasonality. Run prophet with daily_seasonality=True to override this.\n"
     ]
    },
    {
     "name": "stdout",
     "output_type": "stream",
     "text": [
      "31 / 90 time: 9119.670744295 out of 25649.073968329685\n"
     ]
    },
    {
     "name": "stderr",
     "output_type": "stream",
     "text": [
      "INFO:fbprophet:Disabling daily seasonality. Run prophet with daily_seasonality=True to override this.\n"
     ]
    },
    {
     "name": "stdout",
     "output_type": "stream",
     "text": [
      "32 / 90 time: 9413.64817449695 out of 25673.585930446225\n"
     ]
    },
    {
     "name": "stderr",
     "output_type": "stream",
     "text": [
      "INFO:fbprophet:Disabling daily seasonality. Run prophet with daily_seasonality=True to override this.\n",
      "/home/ubuntu/anaconda3/envs/tensorflow_p36/lib/python3.6/site-packages/sklearn/model_selection/_search.py:814: DeprecationWarning:\n",
      "\n",
      "The default of the `iid` parameter will change from True to False in version 0.22 and will be removed in 0.24. This will change numeric results when test-set sizes are unequal.\n",
      "\n"
     ]
    },
    {
     "name": "stdout",
     "output_type": "stream",
     "text": [
      "33 / 90 time: 9707.045885125 out of 25695.121460625\n"
     ]
    },
    {
     "name": "stderr",
     "output_type": "stream",
     "text": [
      "INFO:fbprophet:Disabling daily seasonality. Run prophet with daily_seasonality=True to override this.\n",
      "/home/ubuntu/anaconda3/envs/tensorflow_p36/lib/python3.6/site-packages/sklearn/model_selection/_search.py:814: DeprecationWarning:\n",
      "\n",
      "The default of the `iid` parameter will change from True to False in version 0.22 and will be removed in 0.24. This will change numeric results when test-set sizes are unequal.\n",
      "\n"
     ]
    },
    {
     "name": "stdout",
     "output_type": "stream",
     "text": [
      "34 / 90 time: 9998.004355669953 out of 25709.154057437023\n"
     ]
    },
    {
     "name": "stderr",
     "output_type": "stream",
     "text": [
      "INFO:fbprophet:Disabling daily seasonality. Run prophet with daily_seasonality=True to override this.\n",
      "/home/ubuntu/anaconda3/envs/tensorflow_p36/lib/python3.6/site-packages/sklearn/model_selection/_search.py:814: DeprecationWarning:\n",
      "\n",
      "The default of the `iid` parameter will change from True to False in version 0.22 and will be removed in 0.24. This will change numeric results when test-set sizes are unequal.\n",
      "\n"
     ]
    },
    {
     "name": "stdout",
     "output_type": "stream",
     "text": [
      "35 / 90 time: 10291.165344640962 out of 25727.913361602405\n"
     ]
    },
    {
     "name": "stderr",
     "output_type": "stream",
     "text": [
      "INFO:fbprophet:Disabling daily seasonality. Run prophet with daily_seasonality=True to override this.\n"
     ]
    },
    {
     "name": "stdout",
     "output_type": "stream",
     "text": [
      "36 / 90 time: 10585.764346585958 out of 25749.1565187226\n"
     ]
    },
    {
     "name": "stderr",
     "output_type": "stream",
     "text": [
      "INFO:fbprophet:Disabling daily seasonality. Run prophet with daily_seasonality=True to override this.\n",
      "/home/ubuntu/anaconda3/envs/tensorflow_p36/lib/python3.6/site-packages/sklearn/model_selection/_search.py:814: DeprecationWarning:\n",
      "\n",
      "The default of the `iid` parameter will change from True to False in version 0.22 and will be removed in 0.24. This will change numeric results when test-set sizes are unequal.\n",
      "\n"
     ]
    },
    {
     "name": "stdout",
     "output_type": "stream",
     "text": [
      "37 / 90 time: 10879.695576397004 out of 25767.700049361323\n"
     ]
    },
    {
     "name": "stderr",
     "output_type": "stream",
     "text": [
      "INFO:fbprophet:Disabling daily seasonality. Run prophet with daily_seasonality=True to override this.\n"
     ]
    },
    {
     "name": "stdout",
     "output_type": "stream",
     "text": [
      "38 / 90 time: 11173.410542508995 out of 25784.793559636142\n"
     ]
    },
    {
     "name": "stderr",
     "output_type": "stream",
     "text": [
      "INFO:fbprophet:Disabling daily seasonality. Run prophet with daily_seasonality=True to override this.\n"
     ]
    },
    {
     "name": "stdout",
     "output_type": "stream",
     "text": [
      "39 / 90 time: 11464.88375379995 out of 25795.988446049887\n"
     ]
    },
    {
     "name": "stderr",
     "output_type": "stream",
     "text": [
      "INFO:fbprophet:Disabling daily seasonality. Run prophet with daily_seasonality=True to override this.\n",
      "/home/ubuntu/anaconda3/envs/tensorflow_p36/lib/python3.6/site-packages/sklearn/model_selection/_search.py:814: DeprecationWarning:\n",
      "\n",
      "The default of the `iid` parameter will change from True to False in version 0.22 and will be removed in 0.24. This will change numeric results when test-set sizes are unequal.\n",
      "\n"
     ]
    },
    {
     "name": "stdout",
     "output_type": "stream",
     "text": [
      "40 / 90 time: 11761.123044391978 out of 25817.099365738486\n"
     ]
    },
    {
     "name": "stderr",
     "output_type": "stream",
     "text": [
      "INFO:fbprophet:Disabling daily seasonality. Run prophet with daily_seasonality=True to override this.\n"
     ]
    },
    {
     "name": "stdout",
     "output_type": "stream",
     "text": [
      "41 / 90 time: 12055.774471163983 out of 25833.802438208535\n"
     ]
    },
    {
     "name": "stderr",
     "output_type": "stream",
     "text": [
      "INFO:fbprophet:Disabling daily seasonality. Run prophet with daily_seasonality=True to override this.\n",
      "/home/ubuntu/anaconda3/envs/tensorflow_p36/lib/python3.6/site-packages/sklearn/model_selection/_search.py:814: DeprecationWarning:\n",
      "\n",
      "The default of the `iid` parameter will change from True to False in version 0.22 and will be removed in 0.24. This will change numeric results when test-set sizes are unequal.\n",
      "\n"
     ]
    },
    {
     "name": "stdout",
     "output_type": "stream",
     "text": [
      "42 / 90 time: 12350.265886745998 out of 25849.393716445113\n"
     ]
    },
    {
     "name": "stderr",
     "output_type": "stream",
     "text": [
      "INFO:fbprophet:Disabling daily seasonality. Run prophet with daily_seasonality=True to override this.\n"
     ]
    },
    {
     "name": "stdout",
     "output_type": "stream",
     "text": [
      "43 / 90 time: 12648.161601073982 out of 25871.23963856042\n"
     ]
    },
    {
     "name": "stderr",
     "output_type": "stream",
     "text": [
      "INFO:fbprophet:Disabling daily seasonality. Run prophet with daily_seasonality=True to override this.\n"
     ]
    },
    {
     "name": "stdout",
     "output_type": "stream",
     "text": [
      "44 / 90 time: 12944.650318372005 out of 25889.300636744014\n"
     ]
    },
    {
     "name": "stderr",
     "output_type": "stream",
     "text": [
      "INFO:fbprophet:Disabling daily seasonality. Run prophet with daily_seasonality=True to override this.\n"
     ]
    },
    {
     "name": "stdout",
     "output_type": "stream",
     "text": [
      "45 / 90 time: 13244.486492225959 out of 25913.125745659483\n"
     ]
    },
    {
     "name": "stderr",
     "output_type": "stream",
     "text": [
      "INFO:fbprophet:Disabling daily seasonality. Run prophet with daily_seasonality=True to override this.\n",
      "/home/ubuntu/anaconda3/envs/tensorflow_p36/lib/python3.6/site-packages/sklearn/model_selection/_search.py:814: DeprecationWarning:\n",
      "\n",
      "The default of the `iid` parameter will change from True to False in version 0.22 and will be removed in 0.24. This will change numeric results when test-set sizes are unequal.\n",
      "\n"
     ]
    },
    {
     "name": "stdout",
     "output_type": "stream",
     "text": [
      "46 / 90 time: 13542.098783017951 out of 25931.67852067267\n"
     ]
    },
    {
     "name": "stderr",
     "output_type": "stream",
     "text": [
      "INFO:fbprophet:Disabling daily seasonality. Run prophet with daily_seasonality=True to override this.\n",
      "/home/ubuntu/anaconda3/envs/tensorflow_p36/lib/python3.6/site-packages/sklearn/model_selection/_search.py:814: DeprecationWarning:\n",
      "\n",
      "The default of the `iid` parameter will change from True to False in version 0.22 and will be removed in 0.24. This will change numeric results when test-set sizes are unequal.\n",
      "\n"
     ]
    },
    {
     "name": "stdout",
     "output_type": "stream",
     "text": [
      "47 / 90 time: 13841.309192776971 out of 25952.454736456817\n"
     ]
    },
    {
     "name": "stderr",
     "output_type": "stream",
     "text": [
      "INFO:fbprophet:Disabling daily seasonality. Run prophet with daily_seasonality=True to override this.\n",
      "/home/ubuntu/anaconda3/envs/tensorflow_p36/lib/python3.6/site-packages/sklearn/model_selection/_search.py:814: DeprecationWarning:\n",
      "\n",
      "The default of the `iid` parameter will change from True to False in version 0.22 and will be removed in 0.24. This will change numeric results when test-set sizes are unequal.\n",
      "\n"
     ]
    },
    {
     "name": "stdout",
     "output_type": "stream",
     "text": [
      "48 / 90 time: 14139.91906294995 out of 25971.279911540725\n"
     ]
    },
    {
     "name": "stderr",
     "output_type": "stream",
     "text": [
      "INFO:fbprophet:Disabling daily seasonality. Run prophet with daily_seasonality=True to override this.\n"
     ]
    },
    {
     "name": "stdout",
     "output_type": "stream",
     "text": [
      "49 / 90 time: 14439.55402945896 out of 25991.197253026123\n"
     ]
    },
    {
     "name": "stderr",
     "output_type": "stream",
     "text": [
      "INFO:fbprophet:Disabling daily seasonality. Run prophet with daily_seasonality=True to override this.\n"
     ]
    },
    {
     "name": "stdout",
     "output_type": "stream",
     "text": [
      "50 / 90 time: 14739.83627065795 out of 26011.475771749323\n"
     ]
    },
    {
     "name": "stderr",
     "output_type": "stream",
     "text": [
      "INFO:fbprophet:Disabling daily seasonality. Run prophet with daily_seasonality=True to override this.\n"
     ]
    },
    {
     "name": "stdout",
     "output_type": "stream",
     "text": [
      "51 / 90 time: 15040.789570132969 out of 26032.135794460908\n"
     ]
    },
    {
     "name": "stderr",
     "output_type": "stream",
     "text": [
      "INFO:fbprophet:Disabling daily seasonality. Run prophet with daily_seasonality=True to override this.\n"
     ]
    },
    {
     "name": "stdout",
     "output_type": "stream",
     "text": [
      "52 / 90 time: 15344.413733891968 out of 26056.551623590134\n"
     ]
    },
    {
     "name": "stderr",
     "output_type": "stream",
     "text": [
      "INFO:fbprophet:Disabling daily seasonality. Run prophet with daily_seasonality=True to override this.\n",
      "/home/ubuntu/anaconda3/envs/tensorflow_p36/lib/python3.6/site-packages/sklearn/model_selection/_search.py:814: DeprecationWarning:\n",
      "\n",
      "The default of the `iid` parameter will change from True to False in version 0.22 and will be removed in 0.24. This will change numeric results when test-set sizes are unequal.\n",
      "\n"
     ]
    },
    {
     "name": "stdout",
     "output_type": "stream",
     "text": [
      "53 / 90 time: 15642.996874551987 out of 26071.661457586644\n"
     ]
    },
    {
     "name": "stderr",
     "output_type": "stream",
     "text": [
      "INFO:fbprophet:Disabling daily seasonality. Run prophet with daily_seasonality=True to override this.\n"
     ]
    },
    {
     "name": "stdout",
     "output_type": "stream",
     "text": [
      "54 / 90 time: 15947.263639803976 out of 26095.522319679232\n"
     ]
    },
    {
     "name": "stderr",
     "output_type": "stream",
     "text": [
      "INFO:fbprophet:Disabling daily seasonality. Run prophet with daily_seasonality=True to override this.\n"
     ]
    },
    {
     "name": "stdout",
     "output_type": "stream",
     "text": [
      "55 / 90 time: 16248.335275511956 out of 26113.395978501358\n"
     ]
    },
    {
     "name": "stderr",
     "output_type": "stream",
     "text": [
      "INFO:fbprophet:Disabling daily seasonality. Run prophet with daily_seasonality=True to override this.\n"
     ]
    },
    {
     "name": "stdout",
     "output_type": "stream",
     "text": [
      "56 / 90 time: 16550.97640196397 out of 26133.12063467995\n"
     ]
    },
    {
     "name": "stderr",
     "output_type": "stream",
     "text": [
      "INFO:fbprophet:Disabling daily seasonality. Run prophet with daily_seasonality=True to override this.\n",
      "/home/ubuntu/anaconda3/envs/tensorflow_p36/lib/python3.6/site-packages/sklearn/model_selection/_search.py:814: DeprecationWarning:\n",
      "\n",
      "The default of the `iid` parameter will change from True to False in version 0.22 and will be removed in 0.24. This will change numeric results when test-set sizes are unequal.\n",
      "\n"
     ]
    },
    {
     "name": "stdout",
     "output_type": "stream",
     "text": [
      "57 / 90 time: 16855.09497566399 out of 26154.457720857918\n"
     ]
    },
    {
     "name": "stderr",
     "output_type": "stream",
     "text": [
      "INFO:fbprophet:Disabling daily seasonality. Run prophet with daily_seasonality=True to override this.\n"
     ]
    },
    {
     "name": "stdout",
     "output_type": "stream",
     "text": [
      "58 / 90 time: 17157.878757610975 out of 26173.035392965892\n"
     ]
    },
    {
     "name": "stderr",
     "output_type": "stream",
     "text": [
      "INFO:fbprophet:Disabling daily seasonality. Run prophet with daily_seasonality=True to override this.\n"
     ]
    },
    {
     "name": "stdout",
     "output_type": "stream",
     "text": [
      "59 / 90 time: 17460.891211562965 out of 26191.33681734445\n"
     ]
    },
    {
     "name": "stderr",
     "output_type": "stream",
     "text": [
      "INFO:fbprophet:Disabling daily seasonality. Run prophet with daily_seasonality=True to override this.\n",
      "/home/ubuntu/anaconda3/envs/tensorflow_p36/lib/python3.6/site-packages/sklearn/model_selection/_search.py:814: DeprecationWarning:\n",
      "\n",
      "The default of the `iid` parameter will change from True to False in version 0.22 and will be removed in 0.24. This will change numeric results when test-set sizes are unequal.\n",
      "\n"
     ]
    },
    {
     "name": "stdout",
     "output_type": "stream",
     "text": [
      "60 / 90 time: 17766.15448373696 out of 26212.359074366002\n"
     ]
    },
    {
     "name": "stderr",
     "output_type": "stream",
     "text": [
      "INFO:fbprophet:Disabling daily seasonality. Run prophet with daily_seasonality=True to override this.\n"
     ]
    },
    {
     "name": "stdout",
     "output_type": "stream",
     "text": [
      "61 / 90 time: 18070.143978990964 out of 26230.854163051397\n"
     ]
    },
    {
     "name": "stderr",
     "output_type": "stream",
     "text": [
      "INFO:fbprophet:Disabling daily seasonality. Run prophet with daily_seasonality=True to override this.\n"
     ]
    },
    {
     "name": "stdout",
     "output_type": "stream",
     "text": [
      "62 / 90 time: 18374.57186395797 out of 26249.388377082814\n"
     ]
    },
    {
     "name": "stderr",
     "output_type": "stream",
     "text": [
      "INFO:fbprophet:Disabling daily seasonality. Run prophet with daily_seasonality=True to override this.\n"
     ]
    },
    {
     "name": "stdout",
     "output_type": "stream",
     "text": [
      "63 / 90 time: 18682.69227762596 out of 26272.536015411504\n"
     ]
    },
    {
     "name": "stderr",
     "output_type": "stream",
     "text": [
      "INFO:fbprophet:Disabling daily seasonality. Run prophet with daily_seasonality=True to override this.\n"
     ]
    },
    {
     "name": "stdout",
     "output_type": "stream",
     "text": [
      "64 / 90 time: 18988.370950642973 out of 26291.590547044118\n"
     ]
    },
    {
     "name": "stderr",
     "output_type": "stream",
     "text": [
      "INFO:fbprophet:Disabling daily seasonality. Run prophet with daily_seasonality=True to override this.\n",
      "/home/ubuntu/anaconda3/envs/tensorflow_p36/lib/python3.6/site-packages/sklearn/model_selection/_search.py:814: DeprecationWarning:\n",
      "\n",
      "The default of the `iid` parameter will change from True to False in version 0.22 and will be removed in 0.24. This will change numeric results when test-set sizes are unequal.\n",
      "\n"
     ]
    },
    {
     "name": "stdout",
     "output_type": "stream",
     "text": [
      "65 / 90 time: 19294.937016302953 out of 26311.277749504025\n"
     ]
    },
    {
     "name": "stderr",
     "output_type": "stream",
     "text": [
      "INFO:fbprophet:Disabling daily seasonality. Run prophet with daily_seasonality=True to override this.\n",
      "/home/ubuntu/anaconda3/envs/tensorflow_p36/lib/python3.6/site-packages/sklearn/model_selection/_search.py:814: DeprecationWarning:\n",
      "\n",
      "The default of the `iid` parameter will change from True to False in version 0.22 and will be removed in 0.24. This will change numeric results when test-set sizes are unequal.\n",
      "\n"
     ]
    },
    {
     "name": "stdout",
     "output_type": "stream",
     "text": [
      "66 / 90 time: 19602.601979948 out of 26331.853405900296\n"
     ]
    },
    {
     "name": "stderr",
     "output_type": "stream",
     "text": [
      "INFO:fbprophet:Disabling daily seasonality. Run prophet with daily_seasonality=True to override this.\n",
      "/home/ubuntu/anaconda3/envs/tensorflow_p36/lib/python3.6/site-packages/sklearn/model_selection/_search.py:814: DeprecationWarning:\n",
      "\n",
      "The default of the `iid` parameter will change from True to False in version 0.22 and will be removed in 0.24. This will change numeric results when test-set sizes are unequal.\n",
      "\n"
     ]
    },
    {
     "name": "stdout",
     "output_type": "stream",
     "text": [
      "67 / 90 time: 19910.699531403952 out of 26352.396438622876\n"
     ]
    },
    {
     "name": "stderr",
     "output_type": "stream",
     "text": [
      "INFO:fbprophet:Disabling daily seasonality. Run prophet with daily_seasonality=True to override this.\n"
     ]
    },
    {
     "name": "stdout",
     "output_type": "stream",
     "text": [
      "68 / 90 time: 20222.751389493 out of 26377.501812382176\n"
     ]
    },
    {
     "name": "stderr",
     "output_type": "stream",
     "text": [
      "INFO:fbprophet:Disabling daily seasonality. Run prophet with daily_seasonality=True to override this.\n"
     ]
    },
    {
     "name": "stdout",
     "output_type": "stream",
     "text": [
      "69 / 90 time: 20528.734466602968 out of 26394.087171346673\n"
     ]
    },
    {
     "name": "stderr",
     "output_type": "stream",
     "text": [
      "INFO:fbprophet:Disabling daily seasonality. Run prophet with daily_seasonality=True to override this.\n"
     ]
    },
    {
     "name": "stdout",
     "output_type": "stream",
     "text": [
      "70 / 90 time: 20838.447494644963 out of 26414.933443916147\n"
     ]
    },
    {
     "name": "stderr",
     "output_type": "stream",
     "text": [
      "INFO:fbprophet:Disabling daily seasonality. Run prophet with daily_seasonality=True to override this.\n"
     ]
    },
    {
     "name": "stdout",
     "output_type": "stream",
     "text": [
      "71 / 90 time: 21150.269728338986 out of 26437.837160423733\n"
     ]
    },
    {
     "name": "stderr",
     "output_type": "stream",
     "text": [
      "INFO:fbprophet:Disabling daily seasonality. Run prophet with daily_seasonality=True to override this.\n"
     ]
    },
    {
     "name": "stdout",
     "output_type": "stream",
     "text": [
      "72 / 90 time: 21463.467305698956 out of 26461.80900702611\n"
     ]
    },
    {
     "name": "stderr",
     "output_type": "stream",
     "text": [
      "INFO:fbprophet:Disabling daily seasonality. Run prophet with daily_seasonality=True to override this.\n"
     ]
    },
    {
     "name": "stdout",
     "output_type": "stream",
     "text": [
      "73 / 90 time: 21774.273426206957 out of 26482.22443727873\n"
     ]
    },
    {
     "name": "stderr",
     "output_type": "stream",
     "text": [
      "INFO:fbprophet:Disabling daily seasonality. Run prophet with daily_seasonality=True to override this.\n",
      "/home/ubuntu/anaconda3/envs/tensorflow_p36/lib/python3.6/site-packages/sklearn/model_selection/_search.py:814: DeprecationWarning:\n",
      "\n",
      "The default of the `iid` parameter will change from True to False in version 0.22 and will be removed in 0.24. This will change numeric results when test-set sizes are unequal.\n",
      "\n"
     ]
    },
    {
     "name": "stdout",
     "output_type": "stream",
     "text": [
      "74 / 90 time: 22085.732100999972 out of 26502.878521199964\n"
     ]
    },
    {
     "name": "stderr",
     "output_type": "stream",
     "text": [
      "INFO:fbprophet:Disabling daily seasonality. Run prophet with daily_seasonality=True to override this.\n"
     ]
    },
    {
     "name": "stdout",
     "output_type": "stream",
     "text": [
      "75 / 90 time: 22396.83376064396 out of 26522.566295499426\n"
     ]
    },
    {
     "name": "stderr",
     "output_type": "stream",
     "text": [
      "INFO:fbprophet:Disabling daily seasonality. Run prophet with daily_seasonality=True to override this.\n"
     ]
    },
    {
     "name": "stdout",
     "output_type": "stream",
     "text": [
      "76 / 90 time: 22708.830019932997 out of 26542.788334986617\n"
     ]
    },
    {
     "name": "stderr",
     "output_type": "stream",
     "text": [
      "INFO:fbprophet:Disabling daily seasonality. Run prophet with daily_seasonality=True to override this.\n"
     ]
    },
    {
     "name": "stdout",
     "output_type": "stream",
     "text": [
      "77 / 90 time: 23021.30021739495 out of 26563.038712378788\n"
     ]
    },
    {
     "name": "stderr",
     "output_type": "stream",
     "text": [
      "INFO:fbprophet:Disabling daily seasonality. Run prophet with daily_seasonality=True to override this.\n"
     ]
    },
    {
     "name": "stdout",
     "output_type": "stream",
     "text": [
      "78 / 90 time: 23335.864209096995 out of 26585.161757199105\n"
     ]
    },
    {
     "name": "stderr",
     "output_type": "stream",
     "text": [
      "INFO:fbprophet:Disabling daily seasonality. Run prophet with daily_seasonality=True to override this.\n",
      "/home/ubuntu/anaconda3/envs/tensorflow_p36/lib/python3.6/site-packages/sklearn/model_selection/_search.py:814: DeprecationWarning:\n",
      "\n",
      "The default of the `iid` parameter will change from True to False in version 0.22 and will be removed in 0.24. This will change numeric results when test-set sizes are unequal.\n",
      "\n"
     ]
    },
    {
     "name": "stdout",
     "output_type": "stream",
     "text": [
      "79 / 90 time: 23648.49824834999 out of 26604.560529393737\n"
     ]
    },
    {
     "name": "stderr",
     "output_type": "stream",
     "text": [
      "INFO:fbprophet:Disabling daily seasonality. Run prophet with daily_seasonality=True to override this.\n"
     ]
    },
    {
     "name": "stdout",
     "output_type": "stream",
     "text": [
      "80 / 90 time: 23964.110146260995 out of 26626.78905140111\n"
     ]
    },
    {
     "name": "stderr",
     "output_type": "stream",
     "text": [
      "INFO:fbprophet:Disabling daily seasonality. Run prophet with daily_seasonality=True to override this.\n"
     ]
    },
    {
     "name": "stdout",
     "output_type": "stream",
     "text": [
      "81 / 90 time: 24280.94190798397 out of 26649.814289250702\n"
     ]
    },
    {
     "name": "stderr",
     "output_type": "stream",
     "text": [
      "INFO:fbprophet:Disabling daily seasonality. Run prophet with daily_seasonality=True to override this.\n"
     ]
    },
    {
     "name": "stdout",
     "output_type": "stream",
     "text": [
      "82 / 90 time: 24598.62113257096 out of 26673.203637727547\n"
     ]
    },
    {
     "name": "stderr",
     "output_type": "stream",
     "text": [
      "INFO:fbprophet:Disabling daily seasonality. Run prophet with daily_seasonality=True to override this.\n",
      "/home/ubuntu/anaconda3/envs/tensorflow_p36/lib/python3.6/site-packages/sklearn/model_selection/_search.py:814: DeprecationWarning:\n",
      "\n",
      "The default of the `iid` parameter will change from True to False in version 0.22 and will be removed in 0.24. This will change numeric results when test-set sizes are unequal.\n",
      "\n"
     ]
    },
    {
     "name": "stdout",
     "output_type": "stream",
     "text": [
      "83 / 90 time: 24911.749384961964 out of 26691.16005531639\n"
     ]
    },
    {
     "name": "stderr",
     "output_type": "stream",
     "text": [
      "INFO:fbprophet:Disabling daily seasonality. Run prophet with daily_seasonality=True to override this.\n"
     ]
    },
    {
     "name": "stdout",
     "output_type": "stream",
     "text": [
      "84 / 90 time: 25230.452906149963 out of 26714.597194747017\n"
     ]
    },
    {
     "name": "stderr",
     "output_type": "stream",
     "text": [
      "INFO:fbprophet:Disabling daily seasonality. Run prophet with daily_seasonality=True to override this.\n"
     ]
    },
    {
     "name": "stdout",
     "output_type": "stream",
     "text": [
      "85 / 90 time: 25546.81840509799 out of 26735.042516963014\n"
     ]
    },
    {
     "name": "stderr",
     "output_type": "stream",
     "text": [
      "INFO:fbprophet:Disabling daily seasonality. Run prophet with daily_seasonality=True to override this.\n"
     ]
    },
    {
     "name": "stdout",
     "output_type": "stream",
     "text": [
      "86 / 90 time: 25865.90280531795 out of 26757.830488259948\n"
     ]
    },
    {
     "name": "stderr",
     "output_type": "stream",
     "text": [
      "INFO:fbprophet:Disabling daily seasonality. Run prophet with daily_seasonality=True to override this.\n",
      "/home/ubuntu/anaconda3/envs/tensorflow_p36/lib/python3.6/site-packages/sklearn/model_selection/_search.py:814: DeprecationWarning:\n",
      "\n",
      "The default of the `iid` parameter will change from True to False in version 0.22 and will be removed in 0.24. This will change numeric results when test-set sizes are unequal.\n",
      "\n"
     ]
    },
    {
     "name": "stdout",
     "output_type": "stream",
     "text": [
      "87 / 90 time: 26185.23116397095 out of 26780.3500540612\n"
     ]
    },
    {
     "name": "stderr",
     "output_type": "stream",
     "text": [
      "INFO:fbprophet:Disabling daily seasonality. Run prophet with daily_seasonality=True to override this.\n",
      "/home/ubuntu/anaconda3/envs/tensorflow_p36/lib/python3.6/site-packages/sklearn/model_selection/_search.py:814: DeprecationWarning:\n",
      "\n",
      "The default of the `iid` parameter will change from True to False in version 0.22 and will be removed in 0.24. This will change numeric results when test-set sizes are unequal.\n",
      "\n"
     ]
    },
    {
     "name": "stdout",
     "output_type": "stream",
     "text": [
      "88 / 90 time: 26506.336694895 out of 26804.160702702808\n"
     ]
    },
    {
     "name": "stderr",
     "output_type": "stream",
     "text": [
      "INFO:fbprophet:Disabling daily seasonality. Run prophet with daily_seasonality=True to override this.\n"
     ]
    },
    {
     "name": "stdout",
     "output_type": "stream",
     "text": [
      "89 / 90 time: 26825.782866558002 out of 26825.782866558002\n"
     ]
    },
    {
     "name": "stderr",
     "output_type": "stream",
     "text": [
      "/home/ubuntu/anaconda3/envs/tensorflow_p36/lib/python3.6/site-packages/sklearn/model_selection/_search.py:814: DeprecationWarning:\n",
      "\n",
      "The default of the `iid` parameter will change from True to False in version 0.22 and will be removed in 0.24. This will change numeric results when test-set sizes are unequal.\n",
      "\n"
     ]
    }
   ],
   "source": [
    "total = len(top_10_stocks)\n",
    "output = {}\n",
    "start_time = time.perf_counter()\n",
    "for i,stock in enumerate(top_10_stocks):  \n",
    "    df = data_dict[stock]\n",
    "    result = {}\n",
    "    result['LR'] = LR(df)\n",
    "    result['MA'] = moving_average(df)\n",
    "    result['ARIMA'] = arima_model(df)\n",
    "    result['LSTM'] = network(df)\n",
    "    result['Prophet'] = prophet(df)\n",
    "    result['KNN'] = KNN(df)\n",
    "    output[stock] = result\n",
    "    curr_time = time.perf_counter()\n",
    "    elapse = curr_time - start_time\n",
    "    print(\"{} / {} time: {} out of {}\".format(i,total,elapse,total * elapse / (i+1)))"
   ]
  },
  {
   "cell_type": "markdown",
   "metadata": {
    "colab_type": "text",
    "id": "9_knCKEerqVe"
   },
   "source": [
    "Here is a visualization function that can visualize different models' predictions for a certain stock:"
   ]
  },
  {
   "cell_type": "code",
   "execution_count": 0,
   "metadata": {
    "colab": {},
    "colab_type": "code",
    "id": "zfSeib5uUVTY"
   },
   "outputs": [],
   "source": [
    "def plot(df,preds):\n",
    "  \n",
    "    data = df[df.index > '2013-11-14'].sort_index(ascending=True, axis=0)\n",
    "\n",
    "    data.index = pd.to_datetime(data.index) \n",
    "\n",
    "    train_data = data[data.index < '2017-11-15']\n",
    "\n",
    "    val_data = data[data.index > '2017-11-14']\n",
    "\n",
    "    val_data['Predictions'] = preds\n",
    "\n",
    "    plt.plot(train_data['close'], label=\"train\")\n",
    "\n",
    "    plt.plot(val_data['close'], label=\"actual\")\n",
    "\n",
    "    plt.plot(val_data['Predictions'], label=\"predicted\")\n",
    "\n",
    "    plt.legend()\n",
    "    \n",
    "    plt.show()\n",
    "\n",
    "def visualize(stock_code,output):\n",
    "    print('Predictions for company {}'.format(stock_code))\n",
    "    for model,result in output[stock_code].items():\n",
    "        print(\"Prediction from {} model\".format(model))\n",
    "        plot(data_dict[stock_code],result[0])"
   ]
  },
  {
   "cell_type": "markdown",
   "metadata": {
    "colab_type": "text",
    "id": "jbJ1tp3Rrt1k"
   },
   "source": [
    "Let's visualize our predictions for __`Exelon(EXC)`__. An American Fortune 100 energy company headquartered in Chicago, Illinois."
   ]
  },
  {
   "cell_type": "code",
   "execution_count": 0,
   "metadata": {
    "colab": {},
    "colab_type": "code",
    "id": "vzxcYqlEcFaK",
    "outputId": "06e3ddfd-856b-450d-9a7e-5d095b81fe79"
   },
   "outputs": [
    {
     "name": "stdout",
     "output_type": "stream",
     "text": [
      "Predictions for company EXC\n",
      "Prediction from LR model\n"
     ]
    },
    {
     "data": {
      "image/png": "[encoded data removed]",
      "text/plain": [
       "<Figure size 432x288 with 1 Axes>"
      ]
     },
     "metadata": {
      "tags": []
     },
     "output_type": "display_data"
    },
    {
     "name": "stdout",
     "output_type": "stream",
     "text": [
      "Prediction from MA model\n"
     ]
    },
    {
     "data": {
      "image/png": "[encoded data removed]",
      "text/plain": [
       "<Figure size 432x288 with 1 Axes>"
      ]
     },
     "metadata": {
      "tags": []
     },
     "output_type": "display_data"
    },
    {
     "name": "stdout",
     "output_type": "stream",
     "text": [
      "Prediction from ARIMA model\n"
     ]
    },
    {
     "data": {
      "image/png": "[encoded data removed]",
      "text/plain": [
       "<Figure size 432x288 with 1 Axes>"
      ]
     },
     "metadata": {
      "tags": []
     },
     "output_type": "display_data"
    },
    {
     "name": "stdout",
     "output_type": "stream",
     "text": [
      "Prediction from LSTM model\n"
     ]
    },
    {
     "data": {
      "image/png": "[encoded data removed]",
      "text/plain": [
       "<Figure size 432x288 with 1 Axes>"
      ]
     },
     "metadata": {
      "tags": []
     },
     "output_type": "display_data"
    },
    {
     "name": "stdout",
     "output_type": "stream",
     "text": [
      "Prediction from Prophet model\n"
     ]
    },
    {
     "data": {
      "image/png": "[encoded data removed]",
      "text/plain": [
       "<Figure size 432x288 with 1 Axes>"
      ]
     },
     "metadata": {
      "tags": []
     },
     "output_type": "display_data"
    },
    {
     "name": "stdout",
     "output_type": "stream",
     "text": [
      "Prediction from KNN model\n"
     ]
    },
    {
     "data": {
      "image/png": "[encoded data removed]",
      "text/plain": [
       "<Figure size 432x288 with 1 Axes>"
      ]
     },
     "metadata": {
      "tags": []
     },
     "output_type": "display_data"
    }
   ],
   "source": [
    "# Let's visualize our predictions for Amazon\n",
    "visualize('EXC',output)"
   ]
  },
  {
   "cell_type": "code",
   "execution_count": 0,
   "metadata": {
    "colab": {},
    "colab_type": "code",
    "id": "asKccg5ycFaL"
   },
   "outputs": [],
   "source": [
    "overall_mse = collections.defaultdict(list)\n",
    "industry_mse = collections.defaultdict(lambda : collections.defaultdict(list))\n",
    "MODELS = ['LR','MA','ARIMA','LSTM','Prophet','KNN']\n",
    "for stock,results in output.items():\n",
    "    industry = industries_dict[stock]\n",
    "    for model in MODELS:\n",
    "        preds = results[model][0]\n",
    "        mse = results[model][1]\n",
    "        norm_mse = mse / np.mean(preds)\n",
    "        if norm_mse < 0:\n",
    "            continue\n",
    "        overall_mse[model].append(norm_mse)\n",
    "        industry_mse[industry][model].append(norm_mse)"
   ]
  },
  {
   "cell_type": "code",
   "execution_count": 0,
   "metadata": {
    "colab": {},
    "colab_type": "code",
    "id": "aBTevBF4cFaN"
   },
   "outputs": [],
   "source": [
    "# Format the printing\n",
    "class color:\n",
    "    PURPLE = '\\033[95m'\n",
    "    CYAN = '\\033[96m'\n",
    "    DARKCYAN = '\\033[36m'\n",
    "    BLUE = '\\033[94m'\n",
    "    GREEN = '\\033[92m'\n",
    "    YELLOW = '\\033[93m'\n",
    "    RED = '\\033[91m'\n",
    "    BOLD = '\\033[1m'\n",
    "    UNDERLINE = '\\033[4m'\n",
    "    END = '\\033[0m'"
   ]
  },
  {
   "cell_type": "code",
   "execution_count": 0,
   "metadata": {
    "colab": {},
    "colab_type": "code",
    "id": "uzBazkhVcFaQ",
    "outputId": "e17f999b-787b-4d36-b9ba-e7811f50091f"
   },
   "outputs": [
    {
     "name": "stdout",
     "output_type": "stream",
     "text": [
      "The overall MSE for model LR is: 0.50 with a variance as 0.36\n",
      "The overall MSE for model MA is: 0.32 with a variance as 0.05\n",
      "The overall MSE for model ARIMA is: 0.20 with a variance as 0.04\n",
      "The overall MSE for model LSTM is: 0.57 with a variance as 0.75\n",
      "The overall MSE for model Prophet is: 0.22 with a variance as 0.01\n",
      "The overall MSE for model KNN is: 0.76 with a variance as 0.26\n"
     ]
    }
   ],
   "source": [
    "for model in MODELS:\n",
    "    mse = np.mean(overall_mse[model])\n",
    "    mse_var = np.var(overall_mse[model])\n",
    "    print(\"The overall MSE for model {} is: {:.2f} with a variance as {:.2f}\".format(model,mse,mse_var))"
   ]
  },
  {
   "cell_type": "code",
   "execution_count": 0,
   "metadata": {
    "colab": {},
    "colab_type": "code",
    "id": "8lIcXd0LcFaS",
    "outputId": "b1ce3a10-6918-47d7-e1fb-53e960483e16"
   },
   "outputs": [
    {
     "name": "stdout",
     "output_type": "stream",
     "text": [
      "\u001b[1mFor Industrials industry\u001b[0m\n",
      "The MSE for model LR is: 0.44 with a variance as 0.11\n",
      "The MSE for model MA is: 0.36 with a variance as 0.06\n",
      "The MSE for model ARIMA is: 0.19 with a variance as 0.01\n",
      "The MSE for model LSTM is: 0.42 with a variance as 0.11\n",
      "The MSE for model Prophet is: 0.22 with a variance as 0.02\n",
      "The MSE for model KNN is: 0.91 with a variance as 0.22\n",
      "ARIMA model has the best performance for Industrials industry with an average MSE as 0.19\n",
      "\n",
      "\u001b[1mFor Health Care industry\u001b[0m\n",
      "The MSE for model LR is: 0.55 with a variance as 0.11\n",
      "The MSE for model MA is: 0.29 with a variance as 0.03\n",
      "The MSE for model ARIMA is: 0.17 with a variance as 0.01\n",
      "The MSE for model LSTM is: 0.41 with a variance as 0.11\n",
      "The MSE for model Prophet is: 0.20 with a variance as 0.00\n",
      "The MSE for model KNN is: 0.75 with a variance as 0.20\n",
      "ARIMA model has the best performance for Health Care industry with an average MSE as 0.17\n",
      "\n",
      "\u001b[1mFor Information Technology industry\u001b[0m\n",
      "The MSE for model LR is: 1.29 with a variance as 1.65\n",
      "The MSE for model MA is: 0.66 with a variance as 0.04\n",
      "The MSE for model ARIMA is: 0.41 with a variance as 0.20\n",
      "The MSE for model LSTM is: 1.32 with a variance as 4.28\n",
      "The MSE for model Prophet is: 0.32 with a variance as 0.02\n",
      "The MSE for model KNN is: 0.93 with a variance as 0.29\n",
      "Prophet model has the best performance for Information Technology industry with an average MSE as 0.32\n",
      "\n",
      "\u001b[1mFor Consumer Discretionary industry\u001b[0m\n",
      "The MSE for model LR is: 0.54 with a variance as 0.26\n",
      "The MSE for model MA is: 0.37 with a variance as 0.05\n",
      "The MSE for model ARIMA is: 0.27 with a variance as 0.03\n",
      "The MSE for model LSTM is: 0.87 with a variance as 0.85\n",
      "The MSE for model Prophet is: 0.29 with a variance as 0.02\n",
      "The MSE for model KNN is: 0.89 with a variance as 0.28\n",
      "ARIMA model has the best performance for Consumer Discretionary industry with an average MSE as 0.27\n",
      "\n",
      "\u001b[1mFor Utilities industry\u001b[0m\n",
      "The MSE for model LR is: 0.29 with a variance as 0.04\n",
      "The MSE for model MA is: 0.18 with a variance as 0.01\n",
      "The MSE for model ARIMA is: 0.11 with a variance as 0.00\n",
      "The MSE for model LSTM is: 0.37 with a variance as 0.05\n",
      "The MSE for model Prophet is: 0.17 with a variance as 0.00\n",
      "The MSE for model KNN is: 0.61 with a variance as 0.09\n",
      "ARIMA model has the best performance for Utilities industry with an average MSE as 0.11\n",
      "\n",
      "\u001b[1mFor Financials industry\u001b[0m\n",
      "The MSE for model LR is: 0.43 with a variance as 0.08\n",
      "The MSE for model MA is: 0.26 with a variance as 0.02\n",
      "The MSE for model ARIMA is: 0.12 with a variance as 0.00\n",
      "The MSE for model LSTM is: 0.43 with a variance as 0.24\n",
      "The MSE for model Prophet is: 0.14 with a variance as 0.00\n",
      "The MSE for model KNN is: 0.65 with a variance as 0.06\n",
      "ARIMA model has the best performance for Financials industry with an average MSE as 0.12\n",
      "\n",
      "\u001b[1mFor Materials industry\u001b[0m\n",
      "The MSE for model LR is: 0.34 with a variance as 0.02\n",
      "The MSE for model MA is: 0.24 with a variance as 0.01\n",
      "The MSE for model ARIMA is: 0.20 with a variance as 0.02\n",
      "The MSE for model LSTM is: 0.45 with a variance as 0.05\n",
      "The MSE for model Prophet is: 0.19 with a variance as 0.00\n",
      "The MSE for model KNN is: 0.74 with a variance as 0.42\n",
      "Prophet model has the best performance for Materials industry with an average MSE as 0.19\n",
      "\n",
      "\u001b[1mFor Real Estate industry\u001b[0m\n",
      "The MSE for model LR is: 0.33 with a variance as 0.05\n",
      "The MSE for model MA is: 0.24 with a variance as 0.02\n",
      "The MSE for model ARIMA is: 0.12 with a variance as 0.00\n",
      "The MSE for model LSTM is: 0.34 with a variance as 0.06\n",
      "The MSE for model Prophet is: 0.20 with a variance as 0.00\n",
      "The MSE for model KNN is: 1.04 with a variance as 0.29\n",
      "ARIMA model has the best performance for Real Estate industry with an average MSE as 0.12\n",
      "\n",
      "\u001b[1mFor Energy industry\u001b[0m\n",
      "The MSE for model LR is: 0.28 with a variance as 0.05\n",
      "The MSE for model MA is: 0.26 with a variance as 0.02\n",
      "The MSE for model ARIMA is: 0.22 with a variance as 0.02\n",
      "The MSE for model LSTM is: 0.51 with a variance as 0.06\n",
      "The MSE for model Prophet is: 0.25 with a variance as 0.03\n",
      "The MSE for model KNN is: 0.28 with a variance as 0.03\n",
      "ARIMA model has the best performance for Energy industry with an average MSE as 0.22\n",
      "\n"
     ]
    }
   ],
   "source": [
    "for industry,mses in industry_mse.items():\n",
    "    print(color.BOLD + \"For {} industry\".format(industry) + color.END)\n",
    "    best_mse = 1e10\n",
    "    best_model = \"\"\n",
    "    for model in MODELS:\n",
    "        mse = np.mean(mses[model])\n",
    "        mse_var = np.var(mses[model])\n",
    "        print(\"The MSE for model {} is: {:.2f} with a variance as {:.2f}\".format(model,mse,mse_var))\n",
    "        if mse < best_mse:\n",
    "            best_mse = mse\n",
    "            best_model = model\n",
    "    print(\"{} model has the best performance for {} industry with an average MSE as {:.2f}\\n\".format(best_model,industry,best_mse))"
   ]
  },
  {
   "cell_type": "markdown",
   "metadata": {
    "colab_type": "text",
    "id": "leJ5YK2Xr1WU"
   },
   "source": [
    "## Conclusion\n",
    "__EDA__:\n",
    "* Overall, stocks in financial industry have a negative correlation with stocks in other industries.\n",
    "* Information Technology and Energy sectors are less sensitive to the overall market performance.\n",
    "\n",
    "\n",
    "__Predictive Model__:\n",
    "* Predictions by Linear based models (ARIMA, Linear Regression, Prophet) are closer to the actual stock prices.\n",
    "* Non-linear models have relatively unsteady performance. However, they have advantages in certain aspects (LSTM can get a very low RMSE while KNN captured the trend well)\n",
    "* Overall, __ARIMA__ has the best performance with the __lowest mean squared error (MSE)__. While for some industries (`Materials` and `Information Technology`), __Prophet__'s performance is slightly better.\n",
    "* The complexity for stock price predcition in different industries varies. Overall, predictive models have worse performance for `Information Technology` and `Consumer Discretionary` industries than `Utilities`, `Real Estate` and `Financials` industries."
   ]
  },
  {
   "cell_type": "code",
   "execution_count": 0,
   "metadata": {
    "colab": {},
    "colab_type": "code",
    "id": "XyCz2IQir1xq"
   },
   "outputs": [],
   "source": []
  }
 ],
 "metadata": {
  "colab": {
   "collapsed_sections": [],
   "name": "15688_Stock_Market_Prediction_Final_Report.ipynb",
   "provenance": []
  },
  "kernelspec": {
   "display_name": "Python 3",
   "language": "python",
   "name": "python3"
  },
  "language_info": {
   "codemirror_mode": {
    "name": "ipython",
    "version": 3
   },
   "file_extension": ".py",
   "mimetype": "text/x-python",
   "name": "python",
   "nbconvert_exporter": "python",
   "pygments_lexer": "ipython3",
   "version": "3.6.8"
  }
 },
 "nbformat": 4,
 "nbformat_minor": 1
}
